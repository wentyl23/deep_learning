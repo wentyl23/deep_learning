{
  "nbformat": 4,
  "nbformat_minor": 0,
  "metadata": {
    "colab": {
      "name": "CIFAR10.ipynb",
      "provenance": [],
      "collapsed_sections": []
    },
    "kernelspec": {
      "name": "python3",
      "display_name": "Python 3"
    },
    "accelerator": "GPU"
  },
  "cells": [
    {
      "cell_type": "markdown",
      "metadata": {
        "id": "kVclo602PoY0",
        "colab_type": "text"
      },
      "source": [
        "<h3>  &nbsp;&nbsp;Train on GPU&nbsp;&nbsp; <a href=\"https://cloud.google.com/tpu/\"><img valign=\"middle\" src=\"https://raw.githubusercontent.com/GoogleCloudPlatform/tensorflow-without-a-phd/master/tensorflow-rl-pong/images/tpu-hexagon.png\" width=\"50\"></a></h3>\n",
        "\n",
        "1. On the main menu, click Runtime and select **Change runtime type**. Set \"GPU\" as the hardware accelerator.\n",
        "1. Click Runtime again and select **Runtime > Run All**. You can also run the cells manually with Shift-ENTER. "
      ]
    },
    {
      "cell_type": "code",
      "metadata": {
        "id": "Djq5H5QSK6hc",
        "colab_type": "code",
        "colab": {
          "base_uri": "https://localhost:8080/",
          "height": 97
        },
        "outputId": "795e4200-216c-4099-b603-27d6325859c0"
      },
      "source": [
        "import keras\n",
        "keras.__version__"
      ],
      "execution_count": 1,
      "outputs": [
        {
          "output_type": "stream",
          "text": [
            "Using TensorFlow backend.\n"
          ],
          "name": "stderr"
        },
        {
          "output_type": "display_data",
          "data": {
            "text/html": [
              "<p style=\"color: red;\">\n",
              "The default version of TensorFlow in Colab will soon switch to TensorFlow 2.x.<br>\n",
              "We recommend you <a href=\"https://www.tensorflow.org/guide/migrate\" target=\"_blank\">upgrade</a> now \n",
              "or ensure your notebook will continue to use TensorFlow 1.x via the <code>%tensorflow_version 1.x</code> magic:\n",
              "<a href=\"https://colab.research.google.com/notebooks/tensorflow_version.ipynb\" target=\"_blank\">more info</a>.</p>\n"
            ],
            "text/plain": [
              "<IPython.core.display.HTML object>"
            ]
          },
          "metadata": {
            "tags": []
          }
        },
        {
          "output_type": "execute_result",
          "data": {
            "text/plain": [
              "'2.2.5'"
            ]
          },
          "metadata": {
            "tags": []
          },
          "execution_count": 1
        }
      ]
    },
    {
      "cell_type": "code",
      "metadata": {
        "id": "cLjbWVSwLRAM",
        "colab_type": "code",
        "colab": {}
      },
      "source": [
        "from keras import layers\n",
        "from keras import models\n",
        "from keras.datasets import cifar10\n",
        "from keras.utils import to_categorical\n",
        "\n",
        "(train_images, train_labels), (test_images, test_labels) = cifar10.load_data()"
      ],
      "execution_count": 0,
      "outputs": []
    },
    {
      "cell_type": "code",
      "metadata": {
        "id": "f1l1_b4FLnAx",
        "colab_type": "code",
        "colab": {
          "base_uri": "https://localhost:8080/",
          "height": 266
        },
        "outputId": "ec9566b2-afb3-4d48-db7f-06289b76fb13"
      },
      "source": [
        "import matplotlib.pyplot as plt\n",
        "%matplotlib inline\n",
        "\n",
        "digit = train_images[4]\n",
        "plt.imshow(digit, cmap=plt.cm.binary)\n",
        "\n",
        "plt.show()"
      ],
      "execution_count": 11,
      "outputs": [
        {
          "output_type": "display_data",
          "data": {
            "image/png": "[encoded data removed]",
            "text/plain": [
              "<Figure size 432x288 with 1 Axes>"
            ]
          },
          "metadata": {
            "tags": []
          }
        }
      ]
    },
    {
      "cell_type": "code",
      "metadata": {
        "id": "76yjbnbJLjsk",
        "colab_type": "code",
        "colab": {}
      },
      "source": [
        "# MODIFY THE CODE TO ADD A VALIDATION SET\n",
        "\n",
        "train_images = train_images\n",
        "train_labels = train_labels\n",
        "\n",
        "train_images = train_images.reshape((50000, 32, 32, 3))\n",
        "train_images = train_images.astype('float32') / 255\n",
        "\n",
        "test_images = test_images.reshape((10000, 32, 32, 3))\n",
        "test_images = test_images.astype('float32') / 255\n",
        "\n",
        "train_labels = to_categorical(train_labels)\n",
        "test_labels = to_categorical(test_labels)"
      ],
      "execution_count": 0,
      "outputs": []
    },
    {
      "cell_type": "code",
      "metadata": {
        "id": "rIJilTuvRnDY",
        "colab_type": "code",
        "colab": {}
      },
      "source": [
        "  # MAKE WHATEVER CHANGES ARE NECESSARY\n",
        "  # TO GET 0.7 ACCURACY ON THE TEST SET\n",
        "  \n",
        "  model = models.Sequential()\n",
        "  model.add(layers.Conv2D(32, (3,3), activation='relu', input_shape=(32, 32, 3)))\n",
        "  model.add(layers.MaxPooling2D((2, 2)))\n",
        "  model.add(layers.Conv2D(64, (3, 3), activation='relu'))\n",
        "  model.add(layers.Flatten())\n",
        "  model.add(layers.Dense(32, activation='relu'))\n",
        "  model.add(layers.Dense(10, activation='softmax'))\n",
        "\n",
        "  model.compile(optimizer='rmsprop',\n",
        "                  loss='categorical_crossentropy',\n",
        "                  metrics=['accuracy'])"
      ],
      "execution_count": 0,
      "outputs": []
    },
    {
      "cell_type": "code",
      "metadata": {
        "id": "Lr0xkEliYc-6",
        "colab_type": "code",
        "colab": {
          "base_uri": "https://localhost:8080/",
          "height": 357
        },
        "outputId": "8b8c6f3b-6fe6-4219-f82f-d7be3005e5de"
      },
      "source": [
        "model.summary()"
      ],
      "execution_count": 69,
      "outputs": [
        {
          "output_type": "stream",
          "text": [
            "Model: \"sequential_10\"\n",
            "_________________________________________________________________\n",
            "Layer (type)                 Output Shape              Param #   \n",
            "=================================================================\n",
            "conv2d_30 (Conv2D)           (None, 30, 30, 32)        896       \n",
            "_________________________________________________________________\n",
            "max_pooling2d_18 (MaxPooling (None, 15, 15, 32)        0         \n",
            "_________________________________________________________________\n",
            "conv2d_31 (Conv2D)           (None, 13, 13, 64)        18496     \n",
            "_________________________________________________________________\n",
            "flatten_9 (Flatten)          (None, 10816)             0         \n",
            "_________________________________________________________________\n",
            "dense_17 (Dense)             (None, 32)                346144    \n",
            "_________________________________________________________________\n",
            "dense_18 (Dense)             (None, 10)                330       \n",
            "=================================================================\n",
            "Total params: 365,866\n",
            "Trainable params: 365,866\n",
            "Non-trainable params: 0\n",
            "_________________________________________________________________\n"
          ],
          "name": "stdout"
        }
      ]
    },
    {
      "cell_type": "code",
      "metadata": {
        "id": "pdgz18QPNOVr",
        "colab_type": "code",
        "colab": {
          "base_uri": "https://localhost:8080/",
          "height": 714
        },
        "outputId": "1775b09f-be46-46c4-bf2a-2f5fc62fc327"
      },
      "source": [
        "  # MAKE WHATEVER CHANGES ARE NECESSARY\n",
        "  # TO GET 0.7 ACCURACY ON THE TEST SET\n",
        "\n",
        "model_hist = model.fit(train_images, train_labels,\n",
        "          epochs=20, batch_size=1024\n",
        "          # ADD VALIDATION HERE)"
      ],
      "execution_count": 70,
      "outputs": [
        {
          "output_type": "stream",
          "text": [
            "Train on 40000 samples, validate on 10000 samples\n",
            "Epoch 1/20\n",
            "40000/40000 [==============================] - 2s 42us/step - loss: 2.1372 - acc: 0.2235 - val_loss: 1.8798 - val_acc: 0.3336\n",
            "Epoch 2/20\n",
            "40000/40000 [==============================] - 1s 26us/step - loss: 1.8345 - acc: 0.3478 - val_loss: 1.8197 - val_acc: 0.3461\n",
            "Epoch 3/20\n",
            "40000/40000 [==============================] - 1s 26us/step - loss: 1.7295 - acc: 0.3894 - val_loss: 1.7745 - val_acc: 0.3278\n",
            "Epoch 4/20\n",
            "40000/40000 [==============================] - 1s 26us/step - loss: 1.6393 - acc: 0.4175 - val_loss: 1.7510 - val_acc: 0.3750\n",
            "Epoch 5/20\n",
            "40000/40000 [==============================] - 1s 26us/step - loss: 1.5820 - acc: 0.4405 - val_loss: 1.6771 - val_acc: 0.4009\n",
            "Epoch 6/20\n",
            "40000/40000 [==============================] - 1s 27us/step - loss: 1.5266 - acc: 0.4625 - val_loss: 1.5037 - val_acc: 0.4504\n",
            "Epoch 7/20\n",
            "40000/40000 [==============================] - 1s 26us/step - loss: 1.4677 - acc: 0.4828 - val_loss: 1.4198 - val_acc: 0.4900\n",
            "Epoch 8/20\n",
            "40000/40000 [==============================] - 1s 27us/step - loss: 1.4325 - acc: 0.4980 - val_loss: 1.4187 - val_acc: 0.4792\n",
            "Epoch 9/20\n",
            "40000/40000 [==============================] - 1s 27us/step - loss: 1.3885 - acc: 0.5117 - val_loss: 1.3923 - val_acc: 0.5106\n",
            "Epoch 10/20\n",
            "40000/40000 [==============================] - 1s 26us/step - loss: 1.3495 - acc: 0.5256 - val_loss: 1.3374 - val_acc: 0.5181\n",
            "Epoch 11/20\n",
            "40000/40000 [==============================] - 1s 27us/step - loss: 1.3204 - acc: 0.5370 - val_loss: 1.3181 - val_acc: 0.5341\n",
            "Epoch 12/20\n",
            "40000/40000 [==============================] - 1s 27us/step - loss: 1.2867 - acc: 0.5508 - val_loss: 1.3394 - val_acc: 0.5260\n",
            "Epoch 13/20\n",
            "40000/40000 [==============================] - 1s 26us/step - loss: 1.2437 - acc: 0.5687 - val_loss: 1.2606 - val_acc: 0.5507\n",
            "Epoch 14/20\n",
            "40000/40000 [==============================] - 1s 26us/step - loss: 1.2334 - acc: 0.5706 - val_loss: 1.2718 - val_acc: 0.5388\n",
            "Epoch 15/20\n",
            "40000/40000 [==============================] - 1s 26us/step - loss: 1.1980 - acc: 0.5853 - val_loss: 1.3121 - val_acc: 0.5302\n",
            "Epoch 16/20\n",
            "40000/40000 [==============================] - 1s 26us/step - loss: 1.1718 - acc: 0.5937 - val_loss: 1.2023 - val_acc: 0.5841\n",
            "Epoch 17/20\n",
            "40000/40000 [==============================] - 1s 26us/step - loss: 1.1541 - acc: 0.5989 - val_loss: 1.2547 - val_acc: 0.5678\n",
            "Epoch 18/20\n",
            "40000/40000 [==============================] - 1s 26us/step - loss: 1.1199 - acc: 0.6144 - val_loss: 1.2625 - val_acc: 0.5546\n",
            "Epoch 19/20\n",
            "40000/40000 [==============================] - 1s 26us/step - loss: 1.1054 - acc: 0.6165 - val_loss: 1.3486 - val_acc: 0.5251\n",
            "Epoch 20/20\n",
            "40000/40000 [==============================] - 1s 26us/step - loss: 1.0795 - acc: 0.6299 - val_loss: 1.3342 - val_acc: 0.5310\n"
          ],
          "name": "stdout"
        }
      ]
    },
    {
      "cell_type": "code",
      "metadata": {
        "id": "AK7GvOCaUwp9",
        "colab_type": "code",
        "colab": {
          "base_uri": "https://localhost:8080/",
          "height": 279
        },
        "outputId": "2eeed805-5049-4e46-cc80-f3ff85a72fce"
      },
      "source": [
        "import matplotlib.pyplot as plt\n",
        "\n",
        "epochs = range(0, 20)\n",
        "train_loss = model_hist.history['loss']\n",
        "val_loss= model_hist.history['val_loss']\n",
        "\n",
        "plt.plot(epochs, val_loss, 'b+', label='Validation')\n",
        "plt.plot(epochs, train_loss, 'bo', label='training')\n",
        "plt.xlabel('Epochs')\n",
        "plt.ylabel('Validation loss')\n",
        "plt.legend()\n",
        "\n",
        "plt.show()"
      ],
      "execution_count": 71,
      "outputs": [
        {
          "output_type": "display_data",
          "data": {
            "image/png": "[encoded data removed]",
            "text/plain": [
              "<Figure size 432x288 with 1 Axes>"
            ]
          },
          "metadata": {
            "tags": []
          }
        }
      ]
    },
    {
      "cell_type": "code",
      "metadata": {
        "id": "ZSr5gnDLNRo7",
        "colab_type": "code",
        "colab": {
          "base_uri": "https://localhost:8080/",
          "height": 68
        },
        "outputId": "b0c2ffb1-5a3f-424f-86d0-f7e9fb4a656b"
      },
      "source": [
        "test_loss, test_acc = model.evaluate(test_images, test_labels)\n",
        "print('test_acc:', test_acc)\n",
        "test_loss"
      ],
      "execution_count": 72,
      "outputs": [
        {
          "output_type": "stream",
          "text": [
            "10000/10000 [==============================] - 1s 59us/step\n",
            "test_acc: 0.5363\n"
          ],
          "name": "stdout"
        },
        {
          "output_type": "execute_result",
          "data": {
            "text/plain": [
              "1.3371457025527953"
            ]
          },
          "metadata": {
            "tags": []
          },
          "execution_count": 72
        }
      ]
    },
    {
      "cell_type": "code",
      "metadata": {
        "id": "e9SeN6QOO77D",
        "colab_type": "code",
        "colab": {}
      },
      "source": [
        "model.save_weights('./cifar10.h5', overwrite=True)"
      ],
      "execution_count": 0,
      "outputs": []
    }
  ]
}