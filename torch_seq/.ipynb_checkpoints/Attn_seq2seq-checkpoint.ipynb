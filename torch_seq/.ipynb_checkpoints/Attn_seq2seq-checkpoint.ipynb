{
 "cells": [
  {
   "cell_type": "code",
   "execution_count": 1,
   "id": "68fefa05-e185-4240-b559-f3a341e18906",
   "metadata": {},
   "outputs": [
    {
     "name": "stdout",
     "output_type": "stream",
     "text": [
      "True\n"
     ]
    }
   ],
   "source": [
    "import string\n",
    "import re\n",
    "import random\n",
    "\n",
    "from nltk.translate.bleu_score import sentence_bleu\n",
    "import torch\n",
    "import torch.nn as nn\n",
    "from torch import optim\n",
    "import torch.nn.functional as F\n",
    "import pandas as pd\n",
    "from torchmetrics.functional import accuracy\n",
    "\n",
    "print(torch.cuda.is_available())\n",
    "device = torch.device(\"cuda\" if torch.cuda.is_available() else \"cpu\")"
   ]
  },
  {
   "cell_type": "code",
   "execution_count": 2,
   "id": "08c7d945-8832-4d65-acc7-f4d205a64645",
   "metadata": {},
   "outputs": [
    {
     "data": {
      "text/html": [
       "<div>\n",
       "<style scoped>\n",
       "    .dataframe tbody tr th:only-of-type {\n",
       "        vertical-align: middle;\n",
       "    }\n",
       "\n",
       "    .dataframe tbody tr th {\n",
       "        vertical-align: top;\n",
       "    }\n",
       "\n",
       "    .dataframe thead th {\n",
       "        text-align: right;\n",
       "    }\n",
       "</style>\n",
       "<table border=\"1\" class=\"dataframe\">\n",
       "  <thead>\n",
       "    <tr style=\"text-align: right;\">\n",
       "      <th></th>\n",
       "      <th>eng</th>\n",
       "      <th>rus</th>\n",
       "    </tr>\n",
       "  </thead>\n",
       "  <tbody>\n",
       "    <tr>\n",
       "      <th>293576</th>\n",
       "      <td>I saw your brother the other day.</td>\n",
       "      <td>Я тут как-то видел твоего брата.</td>\n",
       "    </tr>\n",
       "    <tr>\n",
       "      <th>316800</th>\n",
       "      <td>Your strategy seems to be working.</td>\n",
       "      <td>Похоже, твоя стратегия работает.</td>\n",
       "    </tr>\n",
       "    <tr>\n",
       "      <th>67229</th>\n",
       "      <td>Hatred is our enemy.</td>\n",
       "      <td>Ненависть — наш враг.</td>\n",
       "    </tr>\n",
       "    <tr>\n",
       "      <th>404616</th>\n",
       "      <td>Tom should have discussed the matter with me.</td>\n",
       "      <td>Тому надо было обсудить этот вопрос со мной.</td>\n",
       "    </tr>\n",
       "    <tr>\n",
       "      <th>208198</th>\n",
       "      <td>I told Tom not to come here.</td>\n",
       "      <td>Я сказала Тому не приходить сюда.</td>\n",
       "    </tr>\n",
       "  </tbody>\n",
       "</table>\n",
       "</div>"
      ],
      "text/plain": [
       "                                                  eng  \\\n",
       "293576              I saw your brother the other day.   \n",
       "316800             Your strategy seems to be working.   \n",
       "67229                            Hatred is our enemy.   \n",
       "404616  Tom should have discussed the matter with me.   \n",
       "208198                   I told Tom not to come here.   \n",
       "\n",
       "                                                 rus  \n",
       "293576              Я тут как-то видел твоего брата.  \n",
       "316800              Похоже, твоя стратегия работает.  \n",
       "67229                          Ненависть — наш враг.  \n",
       "404616  Тому надо было обсудить этот вопрос со мной.  \n",
       "208198             Я сказала Тому не приходить сюда.  "
      ]
     },
     "execution_count": 2,
     "metadata": {},
     "output_type": "execute_result"
    }
   ],
   "source": [
    "data_path = \"rus.txt\"\n",
    "data = pd.read_table(data_path,  usecols=range(2), names=['eng', 'rus'])\n",
    "data.sample(5)"
   ]
  },
  {
   "cell_type": "code",
   "execution_count": 3,
   "id": "e63e4187-285d-4adf-8cbd-45fdf664aa44",
   "metadata": {},
   "outputs": [
    {
     "data": {
      "text/plain": [
       "(440219, 2)"
      ]
     },
     "execution_count": 3,
     "metadata": {},
     "output_type": "execute_result"
    }
   ],
   "source": [
    "data.shape"
   ]
  },
  {
   "cell_type": "code",
   "execution_count": 4,
   "id": "7525a165-50a8-4380-96d6-0ba8440bf50e",
   "metadata": {},
   "outputs": [
    {
     "data": {
      "text/plain": [
       "(15000, 2)"
      ]
     },
     "execution_count": 4,
     "metadata": {},
     "output_type": "execute_result"
    }
   ],
   "source": [
    "samples = 15000\n",
    "train_set = data.sample(samples)\n",
    "\n",
    "train_set.shape"
   ]
  },
  {
   "cell_type": "markdown",
   "id": "f7112804-3dc4-401d-aea9-95595cf1cdcc",
   "metadata": {},
   "source": [
    "Make everything lowercase"
   ]
  },
  {
   "cell_type": "code",
   "execution_count": 5,
   "id": "3a810f24-2c15-42cb-9d86-0e1480217eb6",
   "metadata": {},
   "outputs": [],
   "source": [
    "train_set.eng = train_set.eng.apply(lambda x: x.lower())\n",
    "train_set.rus = train_set.rus.apply(lambda x: x.lower())"
   ]
  },
  {
   "cell_type": "markdown",
   "id": "48f776c3-ecb9-4e42-bf8a-0f82db5fae39",
   "metadata": {},
   "source": [
    "Remove punctuation - https://stackoverflow.com/questions/33047818/remove-punctuation-for-each-row-in-a-pandas-data-frame"
   ]
  },
  {
   "cell_type": "code",
   "execution_count": 6,
   "id": "32278591-a4a2-433d-bb57-741ffdb1dc52",
   "metadata": {},
   "outputs": [],
   "source": [
    "train_set.eng = train_set.eng.apply(lambda x:''.join([i for i in x if i not in string.punctuation]))\n",
    "train_set.rus = train_set.rus.apply(lambda x:''.join([i for i in x if i not in string.punctuation]))"
   ]
  },
  {
   "cell_type": "markdown",
   "id": "4ce3fc0d-5b84-49ee-88a6-b4462d0f5f2e",
   "metadata": {},
   "source": [
    "Strip"
   ]
  },
  {
   "cell_type": "code",
   "execution_count": 7,
   "id": "2fa6f8b0-f5e7-4734-97bd-58ce3791a74a",
   "metadata": {},
   "outputs": [],
   "source": [
    "train_set.eng = train_set.eng.apply(lambda x: x.strip())\n",
    "train_set.rus = train_set.rus.apply(lambda x: x.strip())"
   ]
  },
  {
   "cell_type": "markdown",
   "id": "27ba9e56-c6e8-424d-8f1d-ca6cbe3a89ed",
   "metadata": {},
   "source": [
    "Remove digits"
   ]
  },
  {
   "cell_type": "code",
   "execution_count": 8,
   "id": "3cc13883-18ad-4921-b3b6-7fbc1538ac55",
   "metadata": {},
   "outputs": [],
   "source": [
    "remove_digits = str.maketrans('', '', string.digits)\n",
    "train_set.eng=train_set.eng.apply(lambda x: x.translate(remove_digits))\n",
    "train_set.rus=train_set.rus.apply(lambda x: x.translate(remove_digits))\n",
    "\n",
    "eng_lengths = train_set.eng.str.split(' ')\n",
    "max_eng = eng_lengths.str.len().max()\n",
    "rus_lengths = train_set.rus.str.split(' ')\n",
    "max_rus = rus_lengths.str.len().max()\n",
    "MAX_L= max(max_rus,max_eng) + 1"
   ]
  },
  {
   "cell_type": "code",
   "execution_count": 9,
   "id": "3fcabcf9-9fb4-4356-a4fe-49270fdc4877",
   "metadata": {},
   "outputs": [],
   "source": [
    "end_token = \"E_\"\n",
    "start_token = \"S_\"\n",
    "end_index = 0\n",
    "start_index = 1"
   ]
  },
  {
   "cell_type": "code",
   "execution_count": 10,
   "id": "d2a00517-3b5c-4234-866e-94263a7c0735",
   "metadata": {},
   "outputs": [],
   "source": [
    "class Vectorizer:\n",
    "    def __init__(self):\n",
    "        self.word2index = {end_token: end_index, start_token: start_index}\n",
    "        self.word2count = {}\n",
    "        self.index2word = {end_index: end_token, start_index: start_token}\n",
    "        self.n_words = 2 #E_ and S_\n",
    "    \n",
    "    def addToVector(self, line):\n",
    "        for w in line.split(' '):\n",
    "            if w not in self.word2index:\n",
    "                self.word2index[w] = self.n_words\n",
    "                self.word2count[w] = 1\n",
    "                self.index2word[self.n_words] = w\n",
    "                self.n_words += 1\n",
    "            else:\n",
    "                self.word2count[w] += 1\n",
    "                \n",
    "    def vectorize_line(self, line):\n",
    "        return [self.word2index[w] for w in line.split(' ')]"
   ]
  },
  {
   "cell_type": "code",
   "execution_count": 11,
   "id": "b7654b22-625d-4698-9a55-03f8e27b4159",
   "metadata": {},
   "outputs": [],
   "source": [
    "rus_vec = Vectorizer()\n",
    "eng_vec = Vectorizer()\n",
    "\n",
    "for rus,eng in zip(train_set.rus,train_set.eng):\n",
    "    rus_vec.addToVector(rus)\n",
    "    eng_vec.addToVector(eng)"
   ]
  },
  {
   "cell_type": "code",
   "execution_count": 12,
   "id": "33140fb0-7fbf-4668-a0de-0958bf20e85e",
   "metadata": {},
   "outputs": [
    {
     "name": "stdout",
     "output_type": "stream",
     "text": [
      "4926\n"
     ]
    }
   ],
   "source": [
    "print(eng_vec.n_words)"
   ]
  },
  {
   "cell_type": "code",
   "execution_count": 13,
   "id": "58cf627a-af9a-409c-b621-7c583fcc3f57",
   "metadata": {},
   "outputs": [],
   "source": [
    "class EncoderRNN(nn.Module):\n",
    "    def __init__(self, input_size, hidden_size):\n",
    "        super(EncoderRNN, self).__init__()\n",
    "        self.hidden_size = hidden_size\n",
    "        self.embedding = nn.Embedding(input_size, hidden_size)\n",
    "        self.gru = nn.GRU(hidden_size, hidden_size)\n",
    "        self.initial_hidden = torch.zeros(1,1,self.hidden_size,device=device)\n",
    "\n",
    "    def forward(self, x, hidden):\n",
    "        embedded = self.embedding(x).view(1, 1, -1) #fill\n",
    "        output = embedded\n",
    "        output, hidden = self.gru(output, hidden)\n",
    "        return output, hidden"
   ]
  },
  {
   "cell_type": "markdown",
   "id": "8cda6037-1771-4199-87dd-d634c0fea8ed",
   "metadata": {},
   "source": [
    "Using GRU"
   ]
  },
  {
   "cell_type": "code",
   "execution_count": 14,
   "id": "8f389e96-71d9-4c37-a7b8-3092ab78ff8b",
   "metadata": {},
   "outputs": [],
   "source": [
    "class AttnDecoderRNN(nn.Module):\n",
    "    def __init__(self, hidden_size, output_size, dropout=0.1, max_l=MAX_L):\n",
    "        super(AttnDecoderRNN, self).__init__()\n",
    "        self.hidden_size = hidden_size\n",
    "        self.output_size = output_size\n",
    "        self.dropout = dropout\n",
    "        self.max_l = max_l\n",
    "\n",
    "        self.embedding = nn.Embedding(self.output_size, self.hidden_size)\n",
    "        self.attn = nn.Linear(self.hidden_size * 2, self.max_l)\n",
    "        self.attn_combine = nn.Linear(self.hidden_size * 2, self.hidden_size)\n",
    "        self.dropout = nn.Dropout(self.dropout)\n",
    "        self.gru = nn.GRU(self.hidden_size, self.hidden_size)\n",
    "        self.out = nn.Linear(self.hidden_size, self.output_size)\n",
    "        self.initial_hidden=torch.zeros(1, 1, self.hidden_size, device=device)\n",
    "\n",
    "    def forward(self, input, hidden,enc_outs):\n",
    "        embedded = self.embedding(input).view(1, 1, -1)\n",
    "        embedded = self.dropout(embedded)\n",
    "        attn_weights = F.softmax(\n",
    "            self.attn(torch.cat((embedded[0], hidden[0]), 1)), dim=1)\n",
    "        attn_applied = torch.bmm(attn_weights.unsqueeze(0),\n",
    "                                 enc_outs.unsqueeze(0))\n",
    "        output = torch.cat((embedded[0], attn_applied[0]), 1)\n",
    "        output = self.attn_combine(output).unsqueeze(0)\n",
    "        output = F.relu(output)\n",
    "        output, hidden = self.gru(output, hidden)\n",
    "        output = F.log_softmax(self.out(output[0]), dim=1)\n",
    "        return output, hidden, attn_weights"
   ]
  },
  {
   "cell_type": "markdown",
   "id": "9a00bac6-d5bd-417e-8d19-7297574121ba",
   "metadata": {},
   "source": [
    "Convert pair of sentences to torch tensor"
   ]
  },
  {
   "cell_type": "code",
   "execution_count": 15,
   "id": "f1d35d83-d640-418f-b76d-cecf830d29df",
   "metadata": {},
   "outputs": [],
   "source": [
    "def prepare_tensors(pair):\n",
    "    eng_s=pair.iloc[0]['eng'] + ' ' + end_token\n",
    "    rus_s=pair.iloc[0]['rus'] + ' ' + end_token\n",
    "    input_t=torch.tensor(eng_vec.vectorize_line(eng_s), dtype=torch.long, device=device).view(-1, 1)\n",
    "    target_t=torch.tensor(rus_vec.vectorize_line(rus_s), dtype=torch.long, device=device).view(-1, 1)\n",
    "    return input_t,target_t"
   ]
  },
  {
   "cell_type": "markdown",
   "id": "168192e9-b89a-4b75-91ed-e5a45c3f152a",
   "metadata": {},
   "source": [
    "Functions to measure time for n iters"
   ]
  },
  {
   "cell_type": "code",
   "execution_count": 16,
   "id": "bd7f78dd-74cb-44de-9bdc-57be2247c6b0",
   "metadata": {},
   "outputs": [],
   "source": [
    "import time\n",
    "import math\n",
    "\n",
    "\n",
    "def asMinutes(s):\n",
    "    m = math.floor(s / 60)\n",
    "    s -= m * 60\n",
    "    return '%02dm %02ds' % (m, s)\n",
    "\n",
    "\n",
    "def timeSince(since):\n",
    "    now = time.time()\n",
    "    s = now - since\n",
    "    return asMinutes(s)"
   ]
  },
  {
   "cell_type": "code",
   "execution_count": 17,
   "id": "5d1a744e-5f0e-46d1-97eb-c0391c1604c2",
   "metadata": {},
   "outputs": [],
   "source": [
    "def output_to_words(output):\n",
    "    words=[]\n",
    "    for vec in output:\n",
    "        top_val, top_i = vec.data.topk(1)\n",
    "        if top_i.item() == end_index: \n",
    "            break\n",
    "        words.append(rus_vec.index2word[top_i.item()])\n",
    "    return words\n",
    "\n",
    "def target_to_words(target):\n",
    "    words=[]\n",
    "    for i in target:\n",
    "        words.append(rus_vec.index2word[i.item()])\n",
    "    return words"
   ]
  },
  {
   "cell_type": "code",
   "execution_count": null,
   "id": "3cd49a54-d3c4-436f-81af-051535c2d875",
   "metadata": {},
   "outputs": [],
   "source": []
  },
  {
   "cell_type": "code",
   "execution_count": 18,
   "id": "c2119e42-b1a8-4137-a429-fb481ee9b261",
   "metadata": {},
   "outputs": [],
   "source": [
    "def bleu(output,target):\n",
    "    weights = [1,1,1,1]\n",
    "    if len(output) == 0: \n",
    "        return 0\n",
    "    if len(output)<4:\n",
    "        for i in range(4-len(output)):\n",
    "            weights[-i-1]=0\n",
    "    res = sentence_bleu([output], target, weights=tuple(weights))\n",
    "    return res"
   ]
  },
  {
   "cell_type": "code",
   "execution_count": null,
   "id": "4c53983b-87d1-4c01-a5fa-8c781c6ba46b",
   "metadata": {},
   "outputs": [],
   "source": []
  },
  {
   "cell_type": "code",
   "execution_count": null,
   "id": "26b40e4d-339a-4a58-aa91-74f0b5675afa",
   "metadata": {},
   "outputs": [],
   "source": []
  },
  {
   "cell_type": "code",
   "execution_count": 19,
   "id": "aea22921-e0db-4d97-a155-d0c0aaccb445",
   "metadata": {},
   "outputs": [],
   "source": [
    "def train(input_t, target_t, encoder, decoder, enc_opt, dec_opt, loss_func, max_l=MAX_L):\n",
    "    \n",
    "    input_l = input_t.size(0)\n",
    "    target_l = target_t.size(0)\n",
    "    loss = 0\n",
    "    acc = 0 \n",
    "    \n",
    "    enc_opt.zero_grad()\n",
    "    dec_opt.zero_grad()\n",
    "    enc_hidden = encoder.initial_hidden\n",
    "    enc_outs = torch.zeros(max_l, encoder.hidden_size, device=device)\n",
    "        \n",
    "    for i in range(input_l):\n",
    "        enc_out, enc_hidden = encoder(input_t[i], enc_hidden)\n",
    "        enc_outs[i] = enc_out[0, 0]\n",
    "    dec_in = torch.tensor([[start_index]],device=device) #we pass start as initial input\n",
    "    dec_hidden = enc_hidden\n",
    "    dec_outs = []\n",
    "    \n",
    "    for i in range(target_l):\n",
    "        dec_out, dec_hidden, dec_attention = decoder(dec_in, dec_hidden, enc_outs)\n",
    "        loss += loss_func(dec_out,target_t[i])\n",
    "        acc += accuracy(dec_out, target_t[i])\n",
    "        dec_in = target_t[i] #teacher forcing\n",
    "        dec_outs.append(dec_out)\n",
    "       \n",
    "    \n",
    "    target_w = target_to_words(target_t)\n",
    "    output_w = output_to_words(dec_outs)\n",
    "\n",
    "    bleu_acc = bleu(output_w, target_w)    \n",
    "      \n",
    "    loss.backward()\n",
    "    enc_opt.step()\n",
    "    dec_opt.step()\n",
    "    \n",
    "    return loss.item()/target_l, bleu_acc, acc/target_l"
   ]
  },
  {
   "cell_type": "code",
   "execution_count": 20,
   "id": "c6dc97f6-2406-49e0-be07-30eacffaca0b",
   "metadata": {},
   "outputs": [],
   "source": [
    "def iterations(encoder, decoder, n, print_every=10000, plot_every=100, lr=0.01):\n",
    "    start = time.time()\n",
    "    plot_losses = []\n",
    "    print_loss_total = 0\n",
    "    plot_loss_total = 0\n",
    "    print_bleu_total=0\n",
    "    print_acc_total = 0\n",
    "    \n",
    "    enc_opt = optim.SGD(encoder.parameters(), lr=lr)\n",
    "    dec_opt = optim.SGD(decoder.parameters(), lr=lr)\n",
    "    training_pairs = [prepare_tensors(train_set.sample(1)) for i in range(n)]\n",
    "    loss_func = nn.NLLLoss()\n",
    "    \n",
    "    for i in range(1,n+1):\n",
    "        training_pair = training_pairs[i-1]\n",
    "        input_t = training_pair[0]\n",
    "        target_t = training_pair[1]\n",
    "        \n",
    "        loss, bleu_acc, acc = train(input_t, target_t, encoder, decoder, enc_opt, dec_opt, loss_func)\n",
    "        print_loss_total += loss\n",
    "        plot_loss_total += loss\n",
    "        print_bleu_total += bleu_acc\n",
    "        print_acc_total += acc\n",
    "        \n",
    "        if i % print_every == 0:\n",
    "            print_loss_avg = print_loss_total/print_every\n",
    "            print_loss_total = 0\n",
    "            print_bleu = print_bleu_total / print_every\n",
    "            print_bleu_total=0\n",
    "            print_acc =  print_acc_total / print_every\n",
    "            print_acc_total=0\n",
    "            print('time:{} iteration: {} {:.1f}% loss: {:.4f} bleu acc: {:.4f} acc: {:.4f}'.format(timeSince(start), i, i / n * 100, print_loss_avg, print_bleu, print_acc))\n",
    "            \n",
    "        if i % plot_every == 0:\n",
    "            plot_loss_avg = plot_loss_total / plot_every\n",
    "            plot_losses.append(plot_loss_avg)\n",
    "            plot_loss_total = 0\n",
    "            \n",
    "    return plot_losses"
   ]
  },
  {
   "cell_type": "code",
   "execution_count": 21,
   "id": "0eab5af3-27df-4fe2-b7c3-75c221d9137f",
   "metadata": {
    "tags": []
   },
   "outputs": [
    {
     "name": "stderr",
     "output_type": "stream",
     "text": [
      "C:\\Users\\mente\\anaconda3\\envs\\torch_learning\\lib\\site-packages\\nltk\\translate\\bleu_score.py:515: UserWarning: \n",
      "The hypothesis contains 0 counts of 2-gram overlaps.\n",
      "Therefore the BLEU score evaluates to 0, independently of\n",
      "how many N-gram overlaps of lower order it contains.\n",
      "Consider using lower n-gram order or use SmoothingFunction()\n",
      "  warnings.warn(_msg)\n",
      "C:\\Users\\mente\\anaconda3\\envs\\torch_learning\\lib\\site-packages\\nltk\\translate\\bleu_score.py:515: UserWarning: \n",
      "The hypothesis contains 0 counts of 3-gram overlaps.\n",
      "Therefore the BLEU score evaluates to 0, independently of\n",
      "how many N-gram overlaps of lower order it contains.\n",
      "Consider using lower n-gram order or use SmoothingFunction()\n",
      "  warnings.warn(_msg)\n",
      "C:\\Users\\mente\\anaconda3\\envs\\torch_learning\\lib\\site-packages\\nltk\\translate\\bleu_score.py:515: UserWarning: \n",
      "The hypothesis contains 0 counts of 4-gram overlaps.\n",
      "Therefore the BLEU score evaluates to 0, independently of\n",
      "how many N-gram overlaps of lower order it contains.\n",
      "Consider using lower n-gram order or use SmoothingFunction()\n",
      "  warnings.warn(_msg)\n"
     ]
    },
    {
     "name": "stdout",
     "output_type": "stream",
     "text": [
      "time:04m 58s iteration: 10000 10.0% loss: 5.2574 bleu acc: 0.0010 acc: 0.3074\n",
      "time:08m 44s iteration: 20000 20.0% loss: 4.1653 bleu acc: 0.0031 acc: 0.4101\n",
      "time:12m 33s iteration: 30000 30.0% loss: 3.5668 bleu acc: 0.0061 acc: 0.4630\n",
      "time:16m 20s iteration: 40000 40.0% loss: 3.1268 bleu acc: 0.0115 acc: 0.5047\n",
      "time:20m 06s iteration: 50000 50.0% loss: 2.7935 bleu acc: 0.0168 acc: 0.5374\n",
      "time:23m 55s iteration: 60000 60.0% loss: 2.4945 bleu acc: 0.0239 acc: 0.5666\n",
      "time:27m 56s iteration: 70000 70.0% loss: 2.2975 bleu acc: 0.0316 acc: 0.5885\n",
      "time:31m 44s iteration: 80000 80.0% loss: 2.1018 bleu acc: 0.0370 acc: 0.6107\n",
      "time:35m 27s iteration: 90000 90.0% loss: 2.0349 bleu acc: 0.0395 acc: 0.6134\n",
      "time:39m 09s iteration: 100000 100.0% loss: 1.9610 bleu acc: 0.0401 acc: 0.6153\n"
     ]
    }
   ],
   "source": [
    "hidden_size = 256\n",
    "N=100000\n",
    "encoder = EncoderRNN(eng_vec.n_words, hidden_size).to(device)\n",
    "decoder = AttnDecoderRNN(hidden_size, rus_vec.n_words).to(device)\n",
    "\n",
    "plot_losses = iterations(encoder, decoder, N, print_every=10000)"
   ]
  },
  {
   "cell_type": "code",
   "execution_count": 22,
   "id": "a142dafd-2e1b-49ae-9d55-b05bbb20b5e6",
   "metadata": {},
   "outputs": [
    {
     "data": {
      "text/plain": [
       "[<matplotlib.lines.Line2D at 0x23cdf2c2280>]"
      ]
     },
     "execution_count": 22,
     "metadata": {},
     "output_type": "execute_result"
    },
    {
     "data": {
      "image/png": "[encoded data removed]",
      "text/plain": [
       "<Figure size 432x288 with 1 Axes>"
      ]
     },
     "metadata": {
      "needs_background": "light"
     },
     "output_type": "display_data"
    }
   ],
   "source": [
    "import matplotlib.pyplot as plt\n",
    "\n",
    "plt.plot(range(0,N,100),plot_losses)"
   ]
  },
  {
   "cell_type": "code",
   "execution_count": 26,
   "id": "f2312d4b-f970-4501-aed9-f1c5b4cfa3b1",
   "metadata": {},
   "outputs": [],
   "source": [
    "def evaluate(encoder, decoder, sentence, max_l=MAX_L):\n",
    "    with torch.no_grad():\n",
    "        input_t = torch.tensor(eng_vec.vectorize_line(sentence), dtype=torch.long, device=device).view(-1, 1)\n",
    "        input_l = input_t.size()[0]\n",
    "        enc_hidden = encoder.initial_hidden\n",
    "        enc_outs = torch.zeros(max_l, encoder.hidden_size, device=device)\n",
    "        for i in range(input_l):\n",
    "            enc_out, enc_hidden = encoder(input_t[i], enc_hidden)\n",
    "            enc_outs[i]=enc_out[0,0]\n",
    "        \n",
    "        dec_in = torch.tensor([[start_index]], device=device)\n",
    "        dec_hidden = enc_hidden\n",
    "        dec_words=[]\n",
    "        for i in range(max_l):\n",
    "            dec_out, dec_hidden, dec_attention = decoder(dec_in, dec_hidden, enc_outs)\n",
    "            top_v, top_i = dec_out.data.topk(1)\n",
    "            if top_i.item() == 0: \n",
    "                dec_words.append(end_token)\n",
    "                break\n",
    "            else:\n",
    "                dec_words.append(rus_vec.index2word[top_i.item()])\n",
    "            dec_in = top_i.squeeze().detach()\n",
    "        \n",
    "        return dec_words"
   ]
  },
  {
   "cell_type": "code",
   "execution_count": 27,
   "id": "8b2e8483-7545-4a05-8109-f70eadbd0d64",
   "metadata": {},
   "outputs": [],
   "source": [
    "def evaluateRandomly(encoder, decoder, n=10):\n",
    "    pairs = train_set.sample(n)\n",
    "    for rus,eng in zip(pairs.rus,pairs.eng):\n",
    "        print('Input: ', eng)\n",
    "        print('Target: ', rus)\n",
    "        output_w = evaluate(encoder, decoder, eng)\n",
    "        output_sentence = ' '.join(output_w)\n",
    "        print('Output: ', output_sentence)\n",
    "        del output_w[-1]\n",
    "        target_w = rus.split(' ')\n",
    "        print('Bleu: ', bleu(output_w, target_w))\n",
    "        print('')"
   ]
  },
  {
   "cell_type": "code",
   "execution_count": 28,
   "id": "b1829878-a200-4826-8d61-8a07cbe1a5e4",
   "metadata": {},
   "outputs": [
    {
     "name": "stdout",
     "output_type": "stream",
     "text": [
      "Input:  we must respect toms decision\n",
      "Target:  мы должны уважать решение тома\n",
      "Output:  мы должны уважать тома E_\n",
      "Bleu:  2.96676514467623e-309\n",
      "\n",
      "Input:  i found a strange object lying on the road\n",
      "Target:  я нашёл странный предмет лежащий на дороге\n",
      "Output:  я забыл на своего отца E_\n",
      "Bleu:  0.0\n",
      "\n",
      "Input:  the child burst out crying\n",
      "Target:  ребёнок расплакался\n",
      "Output:  в шесть E_\n",
      "Bleu:  0\n",
      "\n",
      "Input:  i have two sons one is in boston and the other is in chicago\n",
      "Target:  у меня два сына один в бостоне другой в чикаго\n",
      "Output:  у меня в бостоне и одна в бостоне и одна же E_\n",
      "Bleu:  0.0\n",
      "\n",
      "Input:  i bought a book about animals\n",
      "Target:  я купила книгу про животных\n",
      "Output:  я прочёл книгу про E_\n",
      "Bleu:  0.0\n",
      "\n",
      "Input:  they wont come back\n",
      "Target:  они не вернутся\n",
      "Output:  они не так E_\n",
      "Bleu:  7.41691286169047e-309\n",
      "\n",
      "Input:  we want to go to australia\n",
      "Target:  мы хотим поехать в австралию\n",
      "Output:  мы хотим поехать в австралию E_\n",
      "Bleu:  1.0\n",
      "\n",
      "Input:  you were supposed to be there\n",
      "Target:  предполагалось что вы там\n",
      "Output:  ты там туда так ли E_\n",
      "Bleu:  0.0\n",
      "\n",
      "Input:  are you still considering doing that\n",
      "Target:  вы всё ещё намереваетесь сделать это\n"
     ]
    },
    {
     "name": "stderr",
     "output_type": "stream",
     "text": [
      "C:\\Users\\mente\\anaconda3\\envs\\torch_learning\\lib\\site-packages\\nltk\\translate\\bleu_score.py:515: UserWarning: \n",
      "The hypothesis contains 0 counts of 4-gram overlaps.\n",
      "Therefore the BLEU score evaluates to 0, independently of\n",
      "how many N-gram overlaps of lower order it contains.\n",
      "Consider using lower n-gram order or use SmoothingFunction()\n",
      "  warnings.warn(_msg)\n",
      "C:\\Users\\mente\\anaconda3\\envs\\torch_learning\\lib\\site-packages\\nltk\\translate\\bleu_score.py:515: UserWarning: \n",
      "The hypothesis contains 0 counts of 2-gram overlaps.\n",
      "Therefore the BLEU score evaluates to 0, independently of\n",
      "how many N-gram overlaps of lower order it contains.\n",
      "Consider using lower n-gram order or use SmoothingFunction()\n",
      "  warnings.warn(_msg)\n",
      "C:\\Users\\mente\\anaconda3\\envs\\torch_learning\\lib\\site-packages\\nltk\\translate\\bleu_score.py:515: UserWarning: \n",
      "The hypothesis contains 0 counts of 3-gram overlaps.\n",
      "Therefore the BLEU score evaluates to 0, independently of\n",
      "how many N-gram overlaps of lower order it contains.\n",
      "Consider using lower n-gram order or use SmoothingFunction()\n",
      "  warnings.warn(_msg)\n"
     ]
    },
    {
     "name": "stdout",
     "output_type": "stream",
     "text": [
      "Output:  ты рассказал в бостоне говорил E_\n",
      "Bleu:  0\n",
      "\n",
      "Input:  turn around\n",
      "Target:  обернись\n",
      "Output:  у неё E_\n",
      "Bleu:  0\n",
      "\n"
     ]
    }
   ],
   "source": [
    "evaluateRandomly(encoder, decoder)"
   ]
  },
  {
   "cell_type": "code",
   "execution_count": null,
   "id": "e4ed1c07-02d5-439b-af3d-d3b8291d7159",
   "metadata": {},
   "outputs": [],
   "source": []
  }
 ],
 "metadata": {
  "kernelspec": {
   "display_name": "Python 3 (ipykernel)",
   "language": "python",
   "name": "python3"
  },
  "language_info": {
   "codemirror_mode": {
    "name": "ipython",
    "version": 3
   },
   "file_extension": ".py",
   "mimetype": "text/x-python",
   "name": "python",
   "nbconvert_exporter": "python",
   "pygments_lexer": "ipython3",
   "version": "3.8.12"
  }
 },
 "nbformat": 4,
 "nbformat_minor": 5
}
