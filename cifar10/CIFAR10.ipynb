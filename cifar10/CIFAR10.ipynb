{
 "cells": [
  {
   "cell_type": "markdown",
   "metadata": {
    "colab_type": "text",
    "id": "kVclo602PoY0"
   },
   "source": [
    "<h3>  &nbsp;&nbsp;Train on GPU&nbsp;&nbsp; <a href=\"https://cloud.google.com/tpu/\"><img valign=\"middle\" src=\"https://raw.githubusercontent.com/GoogleCloudPlatform/tensorflow-without-a-phd/master/tensorflow-rl-pong/images/tpu-hexagon.png\" width=\"50\"></a></h3>\n",
    "\n",
    "1. On the main menu, click Runtime and select **Change runtime type**. Set \"GPU\" as the hardware accelerator.\n",
    "1. Click Runtime again and select **Runtime > Run All**. You can also run the cells manually with Shift-ENTER. "
   ]
  },
  {
   "cell_type": "code",
   "execution_count": 1,
   "metadata": {
    "colab": {
     "base_uri": "https://localhost:8080/",
     "height": 97
    },
    "colab_type": "code",
    "id": "Djq5H5QSK6hc",
    "outputId": "795e4200-216c-4099-b603-27d6325859c0"
   },
   "outputs": [
    {
     "data": {
      "text/plain": [
       "'2.4.0'"
      ]
     },
     "execution_count": 1,
     "metadata": {},
     "output_type": "execute_result"
    }
   ],
   "source": [
    "import tensorflow.keras as keras\n",
    "keras.__version__"
   ]
  },
  {
   "cell_type": "code",
   "execution_count": 2,
   "metadata": {},
   "outputs": [],
   "source": [
    "import numpy as np\n",
    "import tensorflow\n",
    "import sklearn.model_selection as sk"
   ]
  },
  {
   "cell_type": "code",
   "execution_count": 3,
   "metadata": {
    "colab": {},
    "colab_type": "code",
    "id": "cLjbWVSwLRAM"
   },
   "outputs": [],
   "source": [
    "from tensorflow.keras import layers\n",
    "from tensorflow.keras import models\n",
    "from tensorflow.keras.datasets import cifar10\n",
    "from tensorflow.keras.utils import to_categorical\n",
    "\n",
    "(train_images, train_labels), (test_images, test_labels) = cifar10.load_data()"
   ]
  },
  {
   "cell_type": "code",
   "execution_count": 4,
   "metadata": {
    "colab": {
     "base_uri": "https://localhost:8080/",
     "height": 266
    },
    "colab_type": "code",
    "id": "f1l1_b4FLnAx",
    "outputId": "ec9566b2-afb3-4d48-db7f-06289b76fb13"
   },
   "outputs": [
    {
     "data": {
      "image/png": "[encoded data removed]",
      "text/plain": [
       "<Figure size 432x288 with 1 Axes>"
      ]
     },
     "metadata": {
      "needs_background": "light"
     },
     "output_type": "display_data"
    }
   ],
   "source": [
    "import matplotlib.pyplot as plt\n",
    "%matplotlib inline\n",
    "\n",
    "digit = train_images[4]\n",
    "plt.imshow(digit, cmap=plt.cm.binary)\n",
    "\n",
    "plt.show()"
   ]
  },
  {
   "cell_type": "code",
   "execution_count": 5,
   "metadata": {
    "colab": {},
    "colab_type": "code",
    "id": "76yjbnbJLjsk"
   },
   "outputs": [
    {
     "name": "stdout",
     "output_type": "stream",
     "text": [
      "(10000, 32, 32, 3)\n",
      "(10000, 10)\n"
     ]
    }
   ],
   "source": [
    "# MODIFY THE CODE TO ADD A VALIDATION SET\n",
    "\n",
    "train_images = train_images.reshape((50000, 32, 32, 3))\n",
    "train_images = train_images.astype('float32') / 255\n",
    "\n",
    "test_images = test_images.reshape((10000, 32, 32, 3))\n",
    "test_images = test_images.astype('float32') / 255\n",
    "\n",
    "train_labels = to_categorical(train_labels)\n",
    "test_labels = to_categorical(test_labels)\n",
    "\n",
    "print(test_images.shape)\n",
    "print(test_labels.shape)\n",
    "\n",
    "test_images, validation_images,  test_labels, validation_labels = sk.train_test_split(test_images, test_labels, test_size=0.5)"
   ]
  },
  {
   "cell_type": "code",
   "execution_count": 6,
   "metadata": {},
   "outputs": [],
   "source": [
    "# 3 VGG BLOCKS achieved 0.7117 acc \n",
    "# 4 VGG BLOCKS tends to overfit after 15 epoch\n",
    "# adding dropout with p = 0.01 acc - 0.7112\n",
    "# adding dropout with p = 0.1 overfit a little after 15 epoch, acc - 0.68\n",
    "# adding dropout with p = 0.2 overfit a little after 15 epoch, acc - 0.7006 (best result 0.7162, the worst 0.6809, very dependent on the run)\n",
    "# adding dropout with p=0.1, p=0.2 and p=0.3 for subsequent blocks, acc = 0.73 (best)\n",
    "# decreasing batch size improved the classifier to acc - 0.772 (best) with batch as 512 \n",
    "# at batch - 128 - 0.8104, using dropout subsequent dropouts (0.2,0.3,0.4)"
   ]
  },
  {
   "cell_type": "code",
   "execution_count": 7,
   "metadata": {
    "colab": {},
    "colab_type": "code",
    "id": "rIJilTuvRnDY"
   },
   "outputs": [],
   "source": [
    "  # MAKE WHATEVER CHANGES ARE NECESSARY\n",
    "  # TO GET 0.7 ACCURACY ON THE TEST SET\n",
    "  \n",
    "model = models.Sequential()\n",
    "model.add(layers.Conv2D(32, (3,3), activation='relu', padding=\"same\", input_shape=(32, 32, 3)))\n",
    "model.add(layers.Conv2D(32, (3,3), activation='relu', padding=\"same\"))\n",
    "model.add(layers.MaxPooling2D((2, 2)))\n",
    "model.add(layers.Dropout(0.2))\n",
    "\n",
    "model.add(layers.Conv2D(64, (3, 3), activation='relu', padding=\"same\"))\n",
    "model.add(layers.Conv2D(64, (3, 3), activation='relu', padding=\"same\"))\n",
    "model.add(layers.MaxPooling2D((2, 2)))\n",
    "model.add(layers.Dropout(0.3))\n",
    "\n",
    "model.add(layers.Conv2D(128, (3, 3), activation='relu', padding=\"same\"))\n",
    "model.add(layers.Conv2D(128, (3, 3), activation='relu', padding=\"same\"))\n",
    "model.add(layers.MaxPooling2D((2,2)))\n",
    "model.add(layers.Dropout(0.4))\n",
    "\n",
    "model.add(layers.Flatten())\n",
    "model.add(layers.Dense(128, activation='relu'))\n",
    "model.add(layers.Dense(10, activation='softmax'))\n",
    "\n",
    "model.compile(optimizer='rmsprop',\n",
    "                loss='categorical_crossentropy',\n",
    "                metrics=['accuracy'])"
   ]
  },
  {
   "cell_type": "code",
   "execution_count": 8,
   "metadata": {
    "colab": {
     "base_uri": "https://localhost:8080/",
     "height": 357
    },
    "colab_type": "code",
    "id": "Lr0xkEliYc-6",
    "outputId": "8b8c6f3b-6fe6-4219-f82f-d7be3005e5de"
   },
   "outputs": [
    {
     "name": "stdout",
     "output_type": "stream",
     "text": [
      "Model: \"sequential\"\n",
      "_________________________________________________________________\n",
      "Layer (type)                 Output Shape              Param #   \n",
      "=================================================================\n",
      "conv2d (Conv2D)              (None, 32, 32, 32)        896       \n",
      "_________________________________________________________________\n",
      "conv2d_1 (Conv2D)            (None, 32, 32, 32)        9248      \n",
      "_________________________________________________________________\n",
      "max_pooling2d (MaxPooling2D) (None, 16, 16, 32)        0         \n",
      "_________________________________________________________________\n",
      "dropout (Dropout)            (None, 16, 16, 32)        0         \n",
      "_________________________________________________________________\n",
      "conv2d_2 (Conv2D)            (None, 16, 16, 64)        18496     \n",
      "_________________________________________________________________\n",
      "conv2d_3 (Conv2D)            (None, 16, 16, 64)        36928     \n",
      "_________________________________________________________________\n",
      "max_pooling2d_1 (MaxPooling2 (None, 8, 8, 64)          0         \n",
      "_________________________________________________________________\n",
      "dropout_1 (Dropout)          (None, 8, 8, 64)          0         \n",
      "_________________________________________________________________\n",
      "conv2d_4 (Conv2D)            (None, 8, 8, 128)         73856     \n",
      "_________________________________________________________________\n",
      "conv2d_5 (Conv2D)            (None, 8, 8, 128)         147584    \n",
      "_________________________________________________________________\n",
      "max_pooling2d_2 (MaxPooling2 (None, 4, 4, 128)         0         \n",
      "_________________________________________________________________\n",
      "dropout_2 (Dropout)          (None, 4, 4, 128)         0         \n",
      "_________________________________________________________________\n",
      "flatten (Flatten)            (None, 2048)              0         \n",
      "_________________________________________________________________\n",
      "dense (Dense)                (None, 128)               262272    \n",
      "_________________________________________________________________\n",
      "dense_1 (Dense)              (None, 10)                1290      \n",
      "=================================================================\n",
      "Total params: 550,570\n",
      "Trainable params: 550,570\n",
      "Non-trainable params: 0\n",
      "_________________________________________________________________\n"
     ]
    }
   ],
   "source": [
    "model.summary()"
   ]
  },
  {
   "cell_type": "code",
   "execution_count": 9,
   "metadata": {
    "colab": {
     "base_uri": "https://localhost:8080/",
     "height": 714
    },
    "colab_type": "code",
    "id": "pdgz18QPNOVr",
    "outputId": "1775b09f-be46-46c4-bf2a-2f5fc62fc327"
   },
   "outputs": [
    {
     "name": "stdout",
     "output_type": "stream",
     "text": [
      "Epoch 1/20\n",
      "391/391 [==============================] - 4s 9ms/step - loss: 1.8639 - accuracy: 0.3175 - val_loss: 1.4557 - val_accuracy: 0.4666\n",
      "Epoch 2/20\n",
      "391/391 [==============================] - 3s 9ms/step - loss: 1.4098 - accuracy: 0.4904 - val_loss: 1.2545 - val_accuracy: 0.5588\n",
      "Epoch 3/20\n",
      "391/391 [==============================] - 3s 9ms/step - loss: 1.1709 - accuracy: 0.5820 - val_loss: 1.1100 - val_accuracy: 0.6090\n",
      "Epoch 4/20\n",
      "391/391 [==============================] - 4s 10ms/step - loss: 1.0093 - accuracy: 0.6454 - val_loss: 0.9971 - val_accuracy: 0.6520\n",
      "Epoch 5/20\n",
      "391/391 [==============================] - 4s 9ms/step - loss: 0.8944 - accuracy: 0.6846 - val_loss: 0.8230 - val_accuracy: 0.7100\n",
      "Epoch 6/20\n",
      "391/391 [==============================] - 4s 9ms/step - loss: 0.8024 - accuracy: 0.7190 - val_loss: 0.7782 - val_accuracy: 0.7258\n",
      "Epoch 7/20\n",
      "391/391 [==============================] - 3s 9ms/step - loss: 0.7436 - accuracy: 0.7386 - val_loss: 0.7847 - val_accuracy: 0.7342\n",
      "Epoch 8/20\n",
      "391/391 [==============================] - 3s 9ms/step - loss: 0.6936 - accuracy: 0.7557 - val_loss: 0.7799 - val_accuracy: 0.7358\n",
      "Epoch 9/20\n",
      "391/391 [==============================] - 3s 9ms/step - loss: 0.6482 - accuracy: 0.7741 - val_loss: 0.6758 - val_accuracy: 0.7694\n",
      "Epoch 10/20\n",
      "391/391 [==============================] - 3s 9ms/step - loss: 0.6094 - accuracy: 0.7855 - val_loss: 0.6639 - val_accuracy: 0.7768\n",
      "Epoch 11/20\n",
      "391/391 [==============================] - 3s 9ms/step - loss: 0.5798 - accuracy: 0.7960 - val_loss: 0.6478 - val_accuracy: 0.7828\n",
      "Epoch 12/20\n",
      "391/391 [==============================] - 3s 9ms/step - loss: 0.5585 - accuracy: 0.8062 - val_loss: 0.6261 - val_accuracy: 0.7894\n",
      "Epoch 13/20\n",
      "391/391 [==============================] - 3s 9ms/step - loss: 0.5274 - accuracy: 0.8161 - val_loss: 0.6221 - val_accuracy: 0.7944\n",
      "Epoch 14/20\n",
      "391/391 [==============================] - 3s 9ms/step - loss: 0.5152 - accuracy: 0.8196 - val_loss: 0.5967 - val_accuracy: 0.7964\n",
      "Epoch 15/20\n",
      "391/391 [==============================] - 3s 9ms/step - loss: 0.4936 - accuracy: 0.8267 - val_loss: 0.6200 - val_accuracy: 0.7942\n",
      "Epoch 16/20\n",
      "391/391 [==============================] - 3s 9ms/step - loss: 0.4772 - accuracy: 0.8321 - val_loss: 0.5965 - val_accuracy: 0.8030\n",
      "Epoch 17/20\n",
      "391/391 [==============================] - 3s 9ms/step - loss: 0.4594 - accuracy: 0.8399 - val_loss: 0.5983 - val_accuracy: 0.8144\n",
      "Epoch 18/20\n",
      "391/391 [==============================] - 3s 9ms/step - loss: 0.4514 - accuracy: 0.8431 - val_loss: 0.6304 - val_accuracy: 0.7954\n",
      "Epoch 19/20\n",
      "391/391 [==============================] - 3s 9ms/step - loss: 0.4497 - accuracy: 0.8440 - val_loss: 0.5901 - val_accuracy: 0.8060\n",
      "Epoch 20/20\n",
      "391/391 [==============================] - 3s 9ms/step - loss: 0.4300 - accuracy: 0.8499 - val_loss: 0.6299 - val_accuracy: 0.8072\n"
     ]
    }
   ],
   "source": [
    "  # MAKE WHATEVER CHANGES ARE NECESSARY\n",
    "  # TO GET 0.7 ACCURACY ON THE TEST SET\n",
    "\n",
    "model_hist = model.fit(train_images, train_labels,\n",
    "          epochs=20, batch_size=128, validation_data=(validation_images, validation_labels))\n",
    "          # ADD VALIDATION HERE)"
   ]
  },
  {
   "cell_type": "code",
   "execution_count": 10,
   "metadata": {
    "colab": {
     "base_uri": "https://localhost:8080/",
     "height": 279
    },
    "colab_type": "code",
    "id": "AK7GvOCaUwp9",
    "outputId": "2eeed805-5049-4e46-cc80-f3ff85a72fce"
   },
   "outputs": [
    {
     "data": {
      "image/png": "[encoded data removed]",
      "text/plain": [
       "<Figure size 432x288 with 1 Axes>"
      ]
     },
     "metadata": {
      "needs_background": "light"
     },
     "output_type": "display_data"
    }
   ],
   "source": [
    "import matplotlib.pyplot as plt\n",
    "\n",
    "epochs = range(0, 20)\n",
    "train_loss = model_hist.history['loss']\n",
    "val_loss= model_hist.history['val_loss']\n",
    "\n",
    "plt.plot(epochs, val_loss, 'b+', label='Validation')\n",
    "plt.plot(epochs, train_loss, 'bo', label='training')\n",
    "plt.xlabel('Epochs')\n",
    "plt.ylabel('Validation loss')\n",
    "plt.legend()\n",
    "plt.savefig('best.png')\n",
    "plt.show()\n"
   ]
  },
  {
   "cell_type": "code",
   "execution_count": 11,
   "metadata": {
    "colab": {
     "base_uri": "https://localhost:8080/",
     "height": 68
    },
    "colab_type": "code",
    "id": "ZSr5gnDLNRo7",
    "outputId": "b0c2ffb1-5a3f-424f-86d0-f7e9fb4a656b"
   },
   "outputs": [
    {
     "name": "stdout",
     "output_type": "stream",
     "text": [
      "157/157 [==============================] - 0s 1ms/step - loss: 0.6107 - accuracy: 0.8168\n",
      "test_acc: 0.8167999982833862\n"
     ]
    },
    {
     "data": {
      "text/plain": [
       "0.6106910705566406"
      ]
     },
     "execution_count": 11,
     "metadata": {},
     "output_type": "execute_result"
    }
   ],
   "source": [
    "test_loss, test_acc = model.evaluate(test_images, test_labels)\n",
    "print('test_acc:', test_acc)\n",
    "test_loss"
   ]
  },
  {
   "cell_type": "code",
   "execution_count": 12,
   "metadata": {
    "colab": {},
    "colab_type": "code",
    "id": "e9SeN6QOO77D"
   },
   "outputs": [],
   "source": [
    "model.save_weights('./cifar10.h5', overwrite=True)"
   ]
  },
  {
   "cell_type": "code",
   "execution_count": null,
   "metadata": {},
   "outputs": [],
   "source": []
  }
 ],
 "metadata": {
  "accelerator": "GPU",
  "colab": {
   "collapsed_sections": [],
   "name": "CIFAR10.ipynb",
   "provenance": []
  },
  "kernelspec": {
   "display_name": "Python 3 (ipykernel)",
   "language": "python",
   "name": "python3"
  },
  "language_info": {
   "codemirror_mode": {
    "name": "ipython",
    "version": 3
   },
   "file_extension": ".py",
   "mimetype": "text/x-python",
   "name": "python",
   "nbconvert_exporter": "python",
   "pygments_lexer": "ipython3",
   "version": "3.7.11"
  }
 },
 "nbformat": 4,
 "nbformat_minor": 4
}
