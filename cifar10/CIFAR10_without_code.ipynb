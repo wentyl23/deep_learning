{
 "cells": [
  {
   "cell_type": "markdown",
   "metadata": {
    "colab_type": "text",
    "id": "kVclo602PoY0"
   },
   "source": [
    "<h3>  &nbsp;&nbsp;Train on GPU&nbsp;&nbsp; <a href=\"https://cloud.google.com/tpu/\"><img valign=\"middle\" src=\"https://raw.githubusercontent.com/GoogleCloudPlatform/tensorflow-without-a-phd/master/tensorflow-rl-pong/images/tpu-hexagon.png\" width=\"50\"></a></h3>\n",
    "\n",
    "1. On the main menu, click Runtime and select **Change runtime type**. Set \"GPU\" as the hardware accelerator.\n",
    "1. Click Runtime again and select **Runtime > Run All**. You can also run the cells manually with Shift-ENTER. "
   ]
  },
  {
   "cell_type": "code",
   "execution_count": 18,
   "metadata": {
    "colab": {
     "base_uri": "https://localhost:8080/",
     "height": 97
    },
    "colab_type": "code",
    "id": "Djq5H5QSK6hc",
    "outputId": "795e4200-216c-4099-b603-27d6325859c0"
   },
   "outputs": [
    {
     "data": {
      "text/plain": [
       "'2.4.0'"
      ]
     },
     "execution_count": 18,
     "metadata": {},
     "output_type": "execute_result"
    }
   ],
   "source": [
    "import tensorflow.keras as keras\n",
    "keras.__version__"
   ]
  },
  {
   "cell_type": "code",
   "execution_count": 19,
   "metadata": {},
   "outputs": [],
   "source": [
    "import numpy as np\n",
    "import tensorflow"
   ]
  },
  {
   "cell_type": "code",
   "execution_count": 20,
   "metadata": {
    "colab": {},
    "colab_type": "code",
    "id": "cLjbWVSwLRAM"
   },
   "outputs": [],
   "source": [
    "from tensorflow.keras import layers\n",
    "from tensorflow.keras import models\n",
    "from tensorflow.keras.datasets import cifar10\n",
    "from tensorflow.keras.utils import to_categorical\n",
    "\n",
    "(train_images, train_labels), (test_images, test_labels) = cifar10.load_data()"
   ]
  },
  {
   "cell_type": "code",
   "execution_count": 21,
   "metadata": {
    "colab": {
     "base_uri": "https://localhost:8080/",
     "height": 266
    },
    "colab_type": "code",
    "id": "f1l1_b4FLnAx",
    "outputId": "ec9566b2-afb3-4d48-db7f-06289b76fb13"
   },
   "outputs": [
    {
     "data": {
      "image/png": "[encoded data removed]",
      "text/plain": [
       "<Figure size 432x288 with 1 Axes>"
      ]
     },
     "metadata": {
      "needs_background": "light"
     },
     "output_type": "display_data"
    }
   ],
   "source": [
    "import matplotlib.pyplot as plt\n",
    "%matplotlib inline\n",
    "\n",
    "digit = train_images[4]\n",
    "plt.imshow(digit, cmap=plt.cm.binary)\n",
    "\n",
    "plt.show()"
   ]
  },
  {
   "cell_type": "code",
   "execution_count": 22,
   "metadata": {
    "colab": {},
    "colab_type": "code",
    "id": "76yjbnbJLjsk"
   },
   "outputs": [],
   "source": [
    "# MODIFY THE CODE TO ADD A VALIDATION SET\n",
    "\n",
    "train_images = train_images\n",
    "train_labels = train_labels\n",
    "\n",
    "train_images = train_images.reshape((50000, 32, 32, 3))\n",
    "train_images = train_images.astype('float32') / 255\n",
    "\n",
    "test_images = test_images.reshape((10000, 32, 32, 3))\n",
    "test_images = test_images.astype('float32') / 255\n",
    "\n",
    "train_labels = to_categorical(train_labels)\n",
    "test_labels = to_categorical(test_labels)"
   ]
  },
  {
   "cell_type": "code",
   "execution_count": 23,
   "metadata": {},
   "outputs": [],
   "source": [
    "# 3 VGG BLOCKS achieved 0.7117 acc \n",
    "# 4 VGG BLOCKS tends to overfit after 15 epoch\n",
    "# adding dropout with p = 0.01 acc - 0.7112\n",
    "# adding dropout with p = 0.1 overfit a little after 15 epoch, acc - 0.68\n",
    "# adding dropout with p = 0.2 overfit a little after 15 epoch, acc - 0.7006 (best result 0.7162, the worst 0.6809, very dependent on the run)\n",
    "# adding dropout with p=0.1, p=0.2 and p=0.3 for subsequent blocks, acc = 0.73 (best)\n",
    "# decreasing batch size improved the classifier to acc - 0.772 (best) with batch as 512 \n",
    "# at batch - 128 - 0.8104, using dropout subsequent dropouts (0.2,0.3,0.4)"
   ]
  },
  {
   "cell_type": "code",
   "execution_count": 40,
   "metadata": {
    "colab": {},
    "colab_type": "code",
    "id": "rIJilTuvRnDY"
   },
   "outputs": [],
   "source": [
    "  # MAKE WHATEVER CHANGES ARE NECESSARY\n",
    "  # TO GET 0.7 ACCURACY ON THE TEST SET\n",
    "  \n",
    "model = models.Sequential()\n",
    "model.add(layers.Conv2D(32, (3,3), activation='relu', padding=\"same\", input_shape=(32, 32, 3)))\n",
    "model.add(layers.Conv2D(32, (3,3), activation='relu', padding=\"same\"))\n",
    "model.add(layers.MaxPooling2D((2, 2)))\n",
    "model.add(layers.Dropout(0.2))\n",
    "\n",
    "model.add(layers.Conv2D(64, (3, 3), activation='relu', padding=\"same\"))\n",
    "model.add(layers.Conv2D(64, (3, 3), activation='relu', padding=\"same\"))\n",
    "model.add(layers.MaxPooling2D((2, 2)))\n",
    "model.add(layers.Dropout(0.3))\n",
    "\n",
    "model.add(layers.Conv2D(128, (3, 3), activation='relu', padding=\"same\"))\n",
    "model.add(layers.Conv2D(128, (3, 3), activation='relu', padding=\"same\"))\n",
    "model.add(layers.MaxPooling2D((2,2)))\n",
    "model.add(layers.Dropout(0.4))\n",
    "\n",
    "model.add(layers.Flatten())\n",
    "model.add(layers.Dense(128, activation='relu'))\n",
    "model.add(layers.Dense(10, activation='softmax'))\n",
    "\n",
    "model.compile(optimizer='rmsprop',\n",
    "                loss='categorical_crossentropy',\n",
    "                metrics=['accuracy'])"
   ]
  },
  {
   "cell_type": "code",
   "execution_count": 41,
   "metadata": {
    "colab": {
     "base_uri": "https://localhost:8080/",
     "height": 357
    },
    "colab_type": "code",
    "id": "Lr0xkEliYc-6",
    "outputId": "8b8c6f3b-6fe6-4219-f82f-d7be3005e5de"
   },
   "outputs": [
    {
     "name": "stdout",
     "output_type": "stream",
     "text": [
      "Model: \"sequential_4\"\n",
      "_________________________________________________________________\n",
      "Layer (type)                 Output Shape              Param #   \n",
      "=================================================================\n",
      "conv2d_24 (Conv2D)           (None, 32, 32, 32)        896       \n",
      "_________________________________________________________________\n",
      "conv2d_25 (Conv2D)           (None, 32, 32, 32)        9248      \n",
      "_________________________________________________________________\n",
      "max_pooling2d_12 (MaxPooling (None, 16, 16, 32)        0         \n",
      "_________________________________________________________________\n",
      "dropout_12 (Dropout)         (None, 16, 16, 32)        0         \n",
      "_________________________________________________________________\n",
      "conv2d_26 (Conv2D)           (None, 16, 16, 64)        18496     \n",
      "_________________________________________________________________\n",
      "conv2d_27 (Conv2D)           (None, 16, 16, 64)        36928     \n",
      "_________________________________________________________________\n",
      "max_pooling2d_13 (MaxPooling (None, 8, 8, 64)          0         \n",
      "_________________________________________________________________\n",
      "dropout_13 (Dropout)         (None, 8, 8, 64)          0         \n",
      "_________________________________________________________________\n",
      "conv2d_28 (Conv2D)           (None, 8, 8, 128)         73856     \n",
      "_________________________________________________________________\n",
      "conv2d_29 (Conv2D)           (None, 8, 8, 128)         147584    \n",
      "_________________________________________________________________\n",
      "max_pooling2d_14 (MaxPooling (None, 4, 4, 128)         0         \n",
      "_________________________________________________________________\n",
      "dropout_14 (Dropout)         (None, 4, 4, 128)         0         \n",
      "_________________________________________________________________\n",
      "flatten_4 (Flatten)          (None, 2048)              0         \n",
      "_________________________________________________________________\n",
      "dense_8 (Dense)              (None, 128)               262272    \n",
      "_________________________________________________________________\n",
      "dense_9 (Dense)              (None, 10)                1290      \n",
      "=================================================================\n",
      "Total params: 550,570\n",
      "Trainable params: 550,570\n",
      "Non-trainable params: 0\n",
      "_________________________________________________________________\n"
     ]
    }
   ],
   "source": [
    "model.summary()"
   ]
  },
  {
   "cell_type": "code",
   "execution_count": 42,
   "metadata": {
    "colab": {
     "base_uri": "https://localhost:8080/",
     "height": 714
    },
    "colab_type": "code",
    "id": "pdgz18QPNOVr",
    "outputId": "1775b09f-be46-46c4-bf2a-2f5fc62fc327"
   },
   "outputs": [
    {
     "name": "stdout",
     "output_type": "stream",
     "text": [
      "Epoch 1/20\n",
      "  1/391 [..............................] - ETA: 5s - loss: 2.3044 - accuracy: 0.0547WARNING:tensorflow:Callbacks method `on_train_batch_end` is slow compared to the batch time (batch time: 0.0080s vs `on_train_batch_end` time: 0.0179s). Check your callbacks.\n",
      "391/391 [==============================] - 4s 10ms/step - loss: 1.8710 - accuracy: 0.3082 - val_loss: 1.8201 - val_accuracy: 0.3497\n",
      "Epoch 2/20\n",
      "391/391 [==============================] - 4s 9ms/step - loss: 1.4102 - accuracy: 0.4871 - val_loss: 1.3942 - val_accuracy: 0.5133\n",
      "Epoch 3/20\n",
      "391/391 [==============================] - 4s 9ms/step - loss: 1.1740 - accuracy: 0.5826 - val_loss: 1.0242 - val_accuracy: 0.6375\n",
      "Epoch 4/20\n",
      "391/391 [==============================] - 4s 9ms/step - loss: 1.0053 - accuracy: 0.6433 - val_loss: 0.8671 - val_accuracy: 0.6976\n",
      "Epoch 5/20\n",
      "391/391 [==============================] - 4s 9ms/step - loss: 0.8945 - accuracy: 0.6845 - val_loss: 0.8229 - val_accuracy: 0.7187\n",
      "Epoch 6/20\n",
      "391/391 [==============================] - 4s 9ms/step - loss: 0.8079 - accuracy: 0.7163 - val_loss: 0.7253 - val_accuracy: 0.7503\n",
      "Epoch 7/20\n",
      "391/391 [==============================] - 4s 9ms/step - loss: 0.7428 - accuracy: 0.7387 - val_loss: 0.7142 - val_accuracy: 0.7525\n",
      "Epoch 8/20\n",
      "391/391 [==============================] - 4s 9ms/step - loss: 0.6949 - accuracy: 0.7565 - val_loss: 0.6955 - val_accuracy: 0.7593\n",
      "Epoch 9/20\n",
      "391/391 [==============================] - 4s 9ms/step - loss: 0.6493 - accuracy: 0.7725 - val_loss: 0.7247 - val_accuracy: 0.7558\n",
      "Epoch 10/20\n",
      "391/391 [==============================] - 4s 9ms/step - loss: 0.6149 - accuracy: 0.7855 - val_loss: 0.6800 - val_accuracy: 0.7658\n",
      "Epoch 11/20\n",
      "391/391 [==============================] - 4s 9ms/step - loss: 0.5798 - accuracy: 0.7956 - val_loss: 0.7349 - val_accuracy: 0.7523\n",
      "Epoch 12/20\n",
      "391/391 [==============================] - 4s 9ms/step - loss: 0.5574 - accuracy: 0.8051 - val_loss: 0.6607 - val_accuracy: 0.7751\n",
      "Epoch 13/20\n",
      "391/391 [==============================] - 4s 9ms/step - loss: 0.5335 - accuracy: 0.8138 - val_loss: 0.6374 - val_accuracy: 0.7875\n",
      "Epoch 14/20\n",
      "391/391 [==============================] - 4s 9ms/step - loss: 0.5111 - accuracy: 0.8221 - val_loss: 0.6326 - val_accuracy: 0.7869\n",
      "Epoch 15/20\n",
      "391/391 [==============================] - 4s 9ms/step - loss: 0.5001 - accuracy: 0.8253 - val_loss: 0.6023 - val_accuracy: 0.8003\n",
      "Epoch 16/20\n",
      "391/391 [==============================] - 4s 9ms/step - loss: 0.4794 - accuracy: 0.8334 - val_loss: 0.6162 - val_accuracy: 0.7954\n",
      "Epoch 17/20\n",
      "391/391 [==============================] - 4s 9ms/step - loss: 0.4629 - accuracy: 0.8374 - val_loss: 0.6516 - val_accuracy: 0.8002\n",
      "Epoch 18/20\n",
      "391/391 [==============================] - 4s 9ms/step - loss: 0.4551 - accuracy: 0.8396 - val_loss: 0.5879 - val_accuracy: 0.8111\n",
      "Epoch 19/20\n",
      "391/391 [==============================] - 4s 9ms/step - loss: 0.4408 - accuracy: 0.8447 - val_loss: 0.6023 - val_accuracy: 0.8022\n",
      "Epoch 20/20\n",
      "391/391 [==============================] - 4s 9ms/step - loss: 0.4374 - accuracy: 0.8464 - val_loss: 0.5916 - val_accuracy: 0.8104\n"
     ]
    }
   ],
   "source": [
    "  # MAKE WHATEVER CHANGES ARE NECESSARY\n",
    "  # TO GET 0.7 ACCURACY ON THE TEST SET\n",
    "\n",
    "model_hist = model.fit(train_images, train_labels,\n",
    "          epochs=20, batch_size=128, validation_data=(test_images, test_labels))\n",
    "          # ADD VALIDATION HERE)"
   ]
  },
  {
   "cell_type": "code",
   "execution_count": 43,
   "metadata": {
    "colab": {
     "base_uri": "https://localhost:8080/",
     "height": 279
    },
    "colab_type": "code",
    "id": "AK7GvOCaUwp9",
    "outputId": "2eeed805-5049-4e46-cc80-f3ff85a72fce"
   },
   "outputs": [
    {
     "data": {
      "image/png": "[encoded data removed]",
      "text/plain": [
       "<Figure size 432x288 with 1 Axes>"
      ]
     },
     "metadata": {
      "needs_background": "light"
     },
     "output_type": "display_data"
    }
   ],
   "source": [
    "import matplotlib.pyplot as plt\n",
    "\n",
    "epochs = range(0, 20)\n",
    "train_loss = model_hist.history['loss']\n",
    "val_loss= model_hist.history['val_loss']\n",
    "\n",
    "plt.plot(epochs, val_loss, 'b+', label='Validation')\n",
    "plt.plot(epochs, train_loss, 'bo', label='training')\n",
    "plt.xlabel('Epochs')\n",
    "plt.ylabel('Validation loss')\n",
    "plt.legend()\n",
    "plt.savefig('best.png')\n",
    "plt.show()\n"
   ]
  },
  {
   "cell_type": "code",
   "execution_count": 44,
   "metadata": {
    "colab": {
     "base_uri": "https://localhost:8080/",
     "height": 68
    },
    "colab_type": "code",
    "id": "ZSr5gnDLNRo7",
    "outputId": "b0c2ffb1-5a3f-424f-86d0-f7e9fb4a656b"
   },
   "outputs": [
    {
     "name": "stdout",
     "output_type": "stream",
     "text": [
      "313/313 [==============================] - 1s 2ms/step - loss: 0.5916 - accuracy: 0.8104\n",
      "test_acc: 0.8104000091552734\n"
     ]
    },
    {
     "data": {
      "text/plain": [
       "0.591554582118988"
      ]
     },
     "execution_count": 44,
     "metadata": {},
     "output_type": "execute_result"
    }
   ],
   "source": [
    "test_loss, test_acc = model.evaluate(test_images, test_labels)\n",
    "print('test_acc:', test_acc)\n",
    "test_loss"
   ]
  },
  {
   "cell_type": "code",
   "execution_count": 45,
   "metadata": {
    "colab": {},
    "colab_type": "code",
    "id": "e9SeN6QOO77D"
   },
   "outputs": [],
   "source": [
    "model.save_weights('./cifar10.h5', overwrite=True)"
   ]
  },
  {
   "cell_type": "code",
   "execution_count": null,
   "metadata": {},
   "outputs": [],
   "source": []
  }
 ],
 "metadata": {
  "accelerator": "GPU",
  "colab": {
   "collapsed_sections": [],
   "name": "CIFAR10.ipynb",
   "provenance": []
  },
  "kernelspec": {
   "display_name": "Python 3 (ipykernel)",
   "language": "python",
   "name": "python3"
  },
  "language_info": {
   "codemirror_mode": {
    "name": "ipython",
    "version": 3
   },
   "file_extension": ".py",
   "mimetype": "text/x-python",
   "name": "python",
   "nbconvert_exporter": "python",
   "pygments_lexer": "ipython3",
   "version": "3.7.11"
  }
 },
 "nbformat": 4,
 "nbformat_minor": 4
}
