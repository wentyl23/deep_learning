{
 "cells": [
  {
   "cell_type": "markdown",
   "metadata": {
    "colab_type": "text",
    "id": "kVclo602PoY0"
   },
   "source": [
    "<h3>  &nbsp;&nbsp;Train on GPU&nbsp;&nbsp; <a href=\"https://cloud.google.com/tpu/\"><img valign=\"middle\" src=\"https://raw.githubusercontent.com/GoogleCloudPlatform/tensorflow-without-a-phd/master/tensorflow-rl-pong/images/tpu-hexagon.png\" width=\"50\"></a></h3>\n",
    "\n",
    "1. On the main menu, click Runtime and select **Change runtime type**. Set \"GPU\" as the hardware accelerator.\n",
    "1. Click Runtime again and select **Runtime > Run All**. You can also run the cells manually with Shift-ENTER. "
   ]
  },
  {
   "cell_type": "code",
   "execution_count": 1,
   "metadata": {
    "colab": {
     "base_uri": "https://localhost:8080/",
     "height": 97
    },
    "colab_type": "code",
    "id": "Djq5H5QSK6hc",
    "outputId": "795e4200-216c-4099-b603-27d6325859c0"
   },
   "outputs": [
    {
     "data": {
      "text/plain": [
       "'2.4.0'"
      ]
     },
     "execution_count": 1,
     "metadata": {},
     "output_type": "execute_result"
    }
   ],
   "source": [
    "import tensorflow.keras as keras\n",
    "keras.__version__"
   ]
  },
  {
   "cell_type": "code",
   "execution_count": 2,
   "metadata": {},
   "outputs": [],
   "source": [
    "import numpy as np\n",
    "import tensorflow\n",
    "import re\n",
    "import sklearn.model_selection as sk"
   ]
  },
  {
   "cell_type": "code",
   "execution_count": 3,
   "metadata": {
    "colab": {},
    "colab_type": "code",
    "id": "cLjbWVSwLRAM"
   },
   "outputs": [],
   "source": [
    "from tensorflow.keras import layers\n",
    "from tensorflow.keras import models\n",
    "from tensorflow.keras import optimizers\n",
    "from tensorflow.keras.datasets import cifar10\n",
    "from tensorflow.keras.utils import to_categorical\n",
    "\n",
    "(train_images, train_labels), (test_images, test_labels) = cifar10.load_data()"
   ]
  },
  {
   "cell_type": "code",
   "execution_count": 4,
   "metadata": {
    "colab": {
     "base_uri": "https://localhost:8080/",
     "height": 266
    },
    "colab_type": "code",
    "id": "f1l1_b4FLnAx",
    "outputId": "ec9566b2-afb3-4d48-db7f-06289b76fb13"
   },
   "outputs": [
    {
     "data": {
      "image/png": "[encoded data removed]",
      "text/plain": [
       "<Figure size 432x288 with 1 Axes>"
      ]
     },
     "metadata": {
      "needs_background": "light"
     },
     "output_type": "display_data"
    }
   ],
   "source": [
    "import matplotlib.pyplot as plt\n",
    "%matplotlib inline\n",
    "\n",
    "train_images\n",
    "\n",
    "digit = train_images[4]\n",
    "plt.imshow(digit, cmap=plt.cm.binary)\n",
    "\n",
    "plt.show()"
   ]
  },
  {
   "cell_type": "code",
   "execution_count": 5,
   "metadata": {
    "colab": {},
    "colab_type": "code",
    "id": "76yjbnbJLjsk"
   },
   "outputs": [],
   "source": [
    "# MODIFY THE CODE TO ADD A VALIDATION SET\n",
    "\n",
    "train_images = train_images.reshape((50000, 32, 32, 3))\n",
    "train_images = train_images.astype('float32') / 255\n",
    "\n",
    "test_images = test_images.reshape((10000, 32, 32, 3))\n",
    "test_images = test_images.astype('float32') / 255\n",
    "\n",
    "train_labels = to_categorical(train_labels)\n",
    "test_labels = to_categorical(test_labels)\n",
    "\n",
    "test_images, validation_images,  test_labels, validation_labels = sk.train_test_split(test_images, test_labels, test_size=0.5)"
   ]
  },
  {
   "cell_type": "code",
   "execution_count": 6,
   "metadata": {},
   "outputs": [],
   "source": [
    "#VGG gives very poor results, probably due to too many parameters\n",
    "#Xception goes around 0.7 acc when used with images of (72,72); 0."
   ]
  },
  {
   "cell_type": "code",
   "execution_count": 7,
   "metadata": {},
   "outputs": [],
   "source": [
    "from tensorflow.keras.applications import DenseNet121\n",
    "\n",
    "input_tensor = keras.Input(shape=(32, 32, 3))\n",
    "resized_images = keras.layers.Lambda(lambda image: tensorflow.image.resize(image, (200, 200)))(input_tensor)\n",
    "\n",
    "\n",
    "conv_base = DenseNet121(weights='imagenet',\n",
    "                  include_top=False,\n",
    "                  input_tensor=resized_images,\n",
    "                  pooling='avg',\n",
    "                  input_shape=(200, 200, 3))"
   ]
  },
  {
   "cell_type": "code",
   "execution_count": 8,
   "metadata": {},
   "outputs": [],
   "source": [
    "#conv_base.summary()"
   ]
  },
  {
   "cell_type": "code",
   "execution_count": 9,
   "metadata": {},
   "outputs": [],
   "source": [
    "conv_base.trainable = False"
   ]
  },
  {
   "cell_type": "code",
   "execution_count": 10,
   "metadata": {},
   "outputs": [],
   "source": [
    "initializer = keras.initializers.he_normal()\n",
    "\n",
    "model = models.Sequential()\n",
    "model.add(conv_base)\n",
    "model.add(layers.Flatten())\n",
    "model.add(layers.Dense(256, \n",
    "                       kernel_initializer=initializer,\n",
    "                       activation='relu'))\n",
    "model.add(layers.Dropout(0.5))\n",
    "model.add(layers.Dense(10,\n",
    "                       kernel_initializer=initializer,\n",
    "                       activation='sigmoid'))"
   ]
  },
  {
   "cell_type": "code",
   "execution_count": 11,
   "metadata": {},
   "outputs": [
    {
     "name": "stdout",
     "output_type": "stream",
     "text": [
      "Model: \"sequential\"\n",
      "_________________________________________________________________\n",
      "Layer (type)                 Output Shape              Param #   \n",
      "=================================================================\n",
      "densenet121 (Functional)     (None, 1024)              7037504   \n",
      "_________________________________________________________________\n",
      "flatten (Flatten)            (None, 1024)              0         \n",
      "_________________________________________________________________\n",
      "dense (Dense)                (None, 256)               262400    \n",
      "_________________________________________________________________\n",
      "dropout (Dropout)            (None, 256)               0         \n",
      "_________________________________________________________________\n",
      "dense_1 (Dense)              (None, 10)                2570      \n",
      "=================================================================\n",
      "Total params: 7,302,474\n",
      "Trainable params: 264,970\n",
      "Non-trainable params: 7,037,504\n",
      "_________________________________________________________________\n"
     ]
    }
   ],
   "source": [
    "model.summary()"
   ]
  },
  {
   "cell_type": "code",
   "execution_count": 12,
   "metadata": {},
   "outputs": [],
   "source": [
    "model.compile(loss='categorical_crossentropy',\n",
    "              optimizer=optimizers.RMSprop(learning_rate=1e-4),\n",
    "              metrics=['acc'])\n",
    "\n",
    "lr_reduce = tensorflow.keras.callbacks.ReduceLROnPlateau(monitor='val_acc',\n",
    "                                          factor=0.2,\n",
    "                                          patience=2,\n",
    "                                          verbose=1,\n",
    "                                          mode='max',\n",
    "                                          min_lr=1e-7)"
   ]
  },
  {
   "cell_type": "code",
   "execution_count": 13,
   "metadata": {
    "colab": {
     "base_uri": "https://localhost:8080/",
     "height": 714
    },
    "colab_type": "code",
    "id": "pdgz18QPNOVr",
    "outputId": "1775b09f-be46-46c4-bf2a-2f5fc62fc327"
   },
   "outputs": [
    {
     "name": "stdout",
     "output_type": "stream",
     "text": [
      "Epoch 1/20\n",
      "391/391 [==============================] - 70s 179ms/step - loss: 1.5612 - acc: 0.4551 - val_loss: 0.9036 - val_acc: 0.7238\n",
      "Epoch 2/20\n",
      "391/391 [==============================] - 67s 172ms/step - loss: 0.9952 - acc: 0.6686 - val_loss: 0.7226 - val_acc: 0.7676\n",
      "Epoch 3/20\n",
      "391/391 [==============================] - 68s 174ms/step - loss: 0.8358 - acc: 0.7208 - val_loss: 0.6473 - val_acc: 0.7814\n",
      "Epoch 4/20\n",
      "391/391 [==============================] - 67s 172ms/step - loss: 0.7536 - acc: 0.7459 - val_loss: 0.6045 - val_acc: 0.7980\n",
      "Epoch 5/20\n",
      "391/391 [==============================] - 67s 172ms/step - loss: 0.6999 - acc: 0.7646 - val_loss: 0.5807 - val_acc: 0.8042\n",
      "Epoch 6/20\n",
      "391/391 [==============================] - 67s 171ms/step - loss: 0.6621 - acc: 0.7755 - val_loss: 0.5609 - val_acc: 0.8118\n",
      "Epoch 7/20\n",
      "391/391 [==============================] - 65s 166ms/step - loss: 0.6338 - acc: 0.7850 - val_loss: 0.5442 - val_acc: 0.8170\n",
      "Epoch 8/20\n",
      "391/391 [==============================] - 65s 166ms/step - loss: 0.6091 - acc: 0.7926 - val_loss: 0.5332 - val_acc: 0.8180\n",
      "Epoch 9/20\n",
      "391/391 [==============================] - 65s 166ms/step - loss: 0.5930 - acc: 0.7978 - val_loss: 0.5246 - val_acc: 0.8234\n",
      "Epoch 10/20\n",
      "391/391 [==============================] - 65s 166ms/step - loss: 0.5776 - acc: 0.8030 - val_loss: 0.5176 - val_acc: 0.8256\n",
      "Epoch 11/20\n",
      "391/391 [==============================] - 65s 166ms/step - loss: 0.5632 - acc: 0.8090 - val_loss: 0.5074 - val_acc: 0.8282\n",
      "Epoch 12/20\n",
      "391/391 [==============================] - 65s 166ms/step - loss: 0.5494 - acc: 0.8131 - val_loss: 0.5054 - val_acc: 0.8304\n",
      "Epoch 13/20\n",
      "391/391 [==============================] - 65s 166ms/step - loss: 0.5356 - acc: 0.8165 - val_loss: 0.4957 - val_acc: 0.8320\n",
      "Epoch 14/20\n",
      "391/391 [==============================] - 65s 166ms/step - loss: 0.5274 - acc: 0.8207 - val_loss: 0.4927 - val_acc: 0.8310\n",
      "Epoch 15/20\n",
      "391/391 [==============================] - 65s 166ms/step - loss: 0.5226 - acc: 0.8215 - val_loss: 0.4930 - val_acc: 0.8358\n",
      "Epoch 16/20\n",
      "391/391 [==============================] - 65s 167ms/step - loss: 0.5085 - acc: 0.8259 - val_loss: 0.4864 - val_acc: 0.8372\n",
      "Epoch 17/20\n",
      "391/391 [==============================] - 65s 167ms/step - loss: 0.5062 - acc: 0.8260 - val_loss: 0.4842 - val_acc: 0.8374\n",
      "Epoch 18/20\n",
      "391/391 [==============================] - 65s 166ms/step - loss: 0.4958 - acc: 0.8305 - val_loss: 0.4795 - val_acc: 0.8368\n",
      "Epoch 19/20\n",
      "391/391 [==============================] - 65s 166ms/step - loss: 0.4867 - acc: 0.8327 - val_loss: 0.4769 - val_acc: 0.8376\n",
      "Epoch 20/20\n",
      "391/391 [==============================] - 65s 166ms/step - loss: 0.4845 - acc: 0.8338 - val_loss: 0.4759 - val_acc: 0.8388\n"
     ]
    }
   ],
   "source": [
    "  # MAKE WHATEVER CHANGES ARE NECESSARY\n",
    "  # TO GET 0.7 ACCURACY ON THE TEST SET\n",
    "\n",
    "model_hist = model.fit(train_images, train_labels,\n",
    "          epochs=20, batch_size=128, callbacks=[lr_reduce], validation_data=(validation_images, validation_labels))\n",
    "          # ADD VALIDATION HERE)"
   ]
  },
  {
   "cell_type": "code",
   "execution_count": 14,
   "metadata": {
    "colab": {
     "base_uri": "https://localhost:8080/",
     "height": 279
    },
    "colab_type": "code",
    "id": "AK7GvOCaUwp9",
    "outputId": "2eeed805-5049-4e46-cc80-f3ff85a72fce"
   },
   "outputs": [
    {
     "data": {
      "image/png": "[encoded data removed]",
      "text/plain": [
       "<Figure size 432x288 with 1 Axes>"
      ]
     },
     "metadata": {
      "needs_background": "light"
     },
     "output_type": "display_data"
    }
   ],
   "source": [
    "import matplotlib.pyplot as plt\n",
    "\n",
    "epochs = range(0, 20)\n",
    "train_loss = model_hist.history['loss']\n",
    "val_loss= model_hist.history['val_loss']\n",
    "val_acc = model_hist.history['val_acc'][-1]\n",
    "\n",
    "plt.plot(epochs, val_loss, 'b+', label='Validation')\n",
    "plt.plot(epochs, train_loss, 'bo', label='training')\n",
    "plt.title('val_acc - {}'.format(val_acc))\n",
    "plt.xlabel('Epochs')\n",
    "plt.ylabel('Validation loss')\n",
    "plt.legend()\n",
    "plt.savefig('DenseNet121.png')\n",
    "plt.show()\n"
   ]
  },
  {
   "cell_type": "code",
   "execution_count": 15,
   "metadata": {
    "colab": {
     "base_uri": "https://localhost:8080/",
     "height": 68
    },
    "colab_type": "code",
    "id": "ZSr5gnDLNRo7",
    "outputId": "b0c2ffb1-5a3f-424f-86d0-f7e9fb4a656b"
   },
   "outputs": [
    {
     "name": "stdout",
     "output_type": "stream",
     "text": [
      "157/157 [==============================] - 6s 39ms/step - loss: 0.4804 - acc: 0.8410\n",
      "test_acc: 0.8410000205039978\n"
     ]
    },
    {
     "data": {
      "text/plain": [
       "0.48039764165878296"
      ]
     },
     "execution_count": 15,
     "metadata": {},
     "output_type": "execute_result"
    }
   ],
   "source": [
    "test_loss, test_acc = model.evaluate(test_images, test_labels)\n",
    "print('test_acc:', test_acc)\n",
    "test_loss"
   ]
  },
  {
   "cell_type": "code",
   "execution_count": 16,
   "metadata": {
    "colab": {},
    "colab_type": "code",
    "id": "e9SeN6QOO77D"
   },
   "outputs": [],
   "source": [
    "model.save_weights('./cifar10.h5', overwrite=True)"
   ]
  },
  {
   "cell_type": "code",
   "execution_count": null,
   "metadata": {},
   "outputs": [],
   "source": []
  }
 ],
 "metadata": {
  "accelerator": "GPU",
  "colab": {
   "collapsed_sections": [],
   "name": "CIFAR10.ipynb",
   "provenance": []
  },
  "kernelspec": {
   "display_name": "Python 3 (ipykernel)",
   "language": "python",
   "name": "python3"
  },
  "language_info": {
   "codemirror_mode": {
    "name": "ipython",
    "version": 3
   },
   "file_extension": ".py",
   "mimetype": "text/x-python",
   "name": "python",
   "nbconvert_exporter": "python",
   "pygments_lexer": "ipython3",
   "version": "3.7.11"
  }
 },
 "nbformat": 4,
 "nbformat_minor": 4
}
