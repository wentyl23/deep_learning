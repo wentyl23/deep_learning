{
 "cells": [
  {
   "cell_type": "markdown",
   "metadata": {
    "colab_type": "text",
    "id": "kVclo602PoY0"
   },
   "source": [
    "<h3>  &nbsp;&nbsp;Train on GPU&nbsp;&nbsp; <a href=\"https://cloud.google.com/tpu/\"><img valign=\"middle\" src=\"https://raw.githubusercontent.com/GoogleCloudPlatform/tensorflow-without-a-phd/master/tensorflow-rl-pong/images/tpu-hexagon.png\" width=\"50\"></a></h3>\n",
    "\n",
    "1. On the main menu, click Runtime and select **Change runtime type**. Set \"GPU\" as the hardware accelerator.\n",
    "1. Click Runtime again and select **Runtime > Run All**. You can also run the cells manually with Shift-ENTER. "
   ]
  },
  {
   "cell_type": "code",
   "execution_count": 123,
   "metadata": {
    "colab": {
     "base_uri": "https://localhost:8080/",
     "height": 97
    },
    "colab_type": "code",
    "id": "Djq5H5QSK6hc",
    "outputId": "795e4200-216c-4099-b603-27d6325859c0"
   },
   "outputs": [
    {
     "data": {
      "text/plain": [
       "'2.4.0'"
      ]
     },
     "execution_count": 123,
     "metadata": {},
     "output_type": "execute_result"
    }
   ],
   "source": [
    "import tensorflow.keras as keras\n",
    "keras.__version__"
   ]
  },
  {
   "cell_type": "code",
   "execution_count": 124,
   "metadata": {},
   "outputs": [],
   "source": [
    "import numpy as np\n",
    "import tensorflow\n",
    "import re\n",
    "import sklearn.model_selection as sk"
   ]
  },
  {
   "cell_type": "code",
   "execution_count": 125,
   "metadata": {
    "colab": {},
    "colab_type": "code",
    "id": "cLjbWVSwLRAM"
   },
   "outputs": [],
   "source": [
    "from tensorflow.keras import layers\n",
    "from tensorflow.keras import models\n",
    "from tensorflow.keras import optimizers\n",
    "from tensorflow.keras.datasets import cifar10\n",
    "from tensorflow.keras.utils import to_categorical\n",
    "\n",
    "(train_images, train_labels), (test_images, test_labels) = cifar10.load_data()"
   ]
  },
  {
   "cell_type": "code",
   "execution_count": 126,
   "metadata": {
    "colab": {
     "base_uri": "https://localhost:8080/",
     "height": 266
    },
    "colab_type": "code",
    "id": "f1l1_b4FLnAx",
    "outputId": "ec9566b2-afb3-4d48-db7f-06289b76fb13"
   },
   "outputs": [
    {
     "data": {
      "image/png": "[encoded data removed]",
      "text/plain": [
       "<Figure size 432x288 with 1 Axes>"
      ]
     },
     "metadata": {
      "needs_background": "light"
     },
     "output_type": "display_data"
    }
   ],
   "source": [
    "import matplotlib.pyplot as plt\n",
    "%matplotlib inline\n",
    "\n",
    "train_images\n",
    "\n",
    "digit = train_images[4]\n",
    "plt.imshow(digit, cmap=plt.cm.binary)\n",
    "\n",
    "plt.show()"
   ]
  },
  {
   "cell_type": "code",
   "execution_count": 127,
   "metadata": {
    "colab": {},
    "colab_type": "code",
    "id": "76yjbnbJLjsk"
   },
   "outputs": [],
   "source": [
    "# MODIFY THE CODE TO ADD A VALIDATION SET\n",
    "\n",
    "train_images = keras.applications.mobilenet.preprocess_input(train_images)\n",
    "\n",
    "test_images = keras.applications.mobilenet.preprocess_input(test_images)\n",
    "\n",
    "train_labels = to_categorical(train_labels)\n",
    "test_labels = to_categorical(test_labels)\n",
    "\n",
    "test_images, validation_images,  test_labels, validation_labels = sk.train_test_split(test_images, test_labels, test_size=0.5)\n"
   ]
  },
  {
   "cell_type": "code",
   "execution_count": 128,
   "metadata": {},
   "outputs": [],
   "source": [
    "#VGG gives very poor results, probably due to too many parameters\n",
    "#Xception goes around 0.7 acc when used with images of (72,72);\n",
    "#I accidentally overwritten the densenet121.png (after 20 epochs it achieved 0.86 acc so i decided to stick with mobilenet which gave much better results)\n",
    "#some improvement in first epochs after adding regularizers but the model struggles later  "
   ]
  },
  {
   "cell_type": "code",
   "execution_count": 129,
   "metadata": {},
   "outputs": [],
   "source": [
    "from tensorflow.keras.applications import MobileNet\n",
    "\n",
    "input_tensor = keras.Input(shape=(32, 32, 3))\n",
    "resized_images = keras.layers.Lambda(lambda image: tensorflow.image.resize(image, (224, 224)))(input_tensor)\n",
    "\n",
    "\n",
    "conv_base = MobileNet(weights='imagenet',\n",
    "                  include_top=False,\n",
    "                  input_tensor=resized_images,\n",
    "                  pooling='avg',\n",
    "                  input_shape=(224, 224, 3))"
   ]
  },
  {
   "cell_type": "code",
   "execution_count": 130,
   "metadata": {},
   "outputs": [],
   "source": [
    "#conv_base.summary()"
   ]
  },
  {
   "cell_type": "code",
   "execution_count": 131,
   "metadata": {},
   "outputs": [],
   "source": [
    "conv_base.trainable = False"
   ]
  },
  {
   "cell_type": "code",
   "execution_count": 132,
   "metadata": {},
   "outputs": [],
   "source": [
    "initializer = keras.initializers.he_normal()\n",
    "\n",
    "model = models.Sequential()\n",
    "model.add(conv_base)\n",
    "model.add(layers.Flatten())\n",
    "model.add(layers.Dense(256, \n",
    "                       kernel_initializer=initializer,\n",
    "                       activation='relu'))\n",
    "model.add(layers.Dropout(0.5))\n",
    "model.add(layers.Dense(10,\n",
    "                       kernel_initializer=initializer,\n",
    "                       activation='sigmoid'))"
   ]
  },
  {
   "cell_type": "code",
   "execution_count": 133,
   "metadata": {},
   "outputs": [
    {
     "name": "stdout",
     "output_type": "stream",
     "text": [
      "Model: \"sequential_10\"\n",
      "_________________________________________________________________\n",
      "Layer (type)                 Output Shape              Param #   \n",
      "=================================================================\n",
      "mobilenet_1.00_224 (Function (None, 1024)              3228864   \n",
      "_________________________________________________________________\n",
      "flatten_10 (Flatten)         (None, 1024)              0         \n",
      "_________________________________________________________________\n",
      "dense_16 (Dense)             (None, 256)               262400    \n",
      "_________________________________________________________________\n",
      "dropout_8 (Dropout)          (None, 256)               0         \n",
      "_________________________________________________________________\n",
      "dense_17 (Dense)             (None, 10)                2570      \n",
      "=================================================================\n",
      "Total params: 3,493,834\n",
      "Trainable params: 264,970\n",
      "Non-trainable params: 3,228,864\n",
      "_________________________________________________________________\n"
     ]
    }
   ],
   "source": [
    "model.summary()"
   ]
  },
  {
   "cell_type": "code",
   "execution_count": 134,
   "metadata": {},
   "outputs": [],
   "source": [
    "model.compile(loss='categorical_crossentropy',\n",
    "              optimizer=optimizers.RMSprop(learning_rate=1e-4),\n",
    "              metrics=['acc'])\n",
    "\n",
    "lr_reduce = tensorflow.keras.callbacks.ReduceLROnPlateau(monitor='val_acc',\n",
    "                                          factor=0.5,\n",
    "                                          patience=2,\n",
    "                                          verbose=1,\n",
    "                                          mode='max',\n",
    "                                          min_lr=1e-7)"
   ]
  },
  {
   "cell_type": "code",
   "execution_count": 135,
   "metadata": {
    "colab": {
     "base_uri": "https://localhost:8080/",
     "height": 714
    },
    "colab_type": "code",
    "id": "pdgz18QPNOVr",
    "outputId": "1775b09f-be46-46c4-bf2a-2f5fc62fc327"
   },
   "outputs": [
    {
     "name": "stdout",
     "output_type": "stream",
     "text": [
      "Epoch 1/20\n",
      "391/391 [==============================] - 31s 79ms/step - loss: 1.3479 - acc: 0.5363 - val_loss: 0.6484 - val_acc: 0.8006\n",
      "Epoch 2/20\n",
      "391/391 [==============================] - 30s 78ms/step - loss: 0.7800 - acc: 0.7444 - val_loss: 0.5099 - val_acc: 0.8332\n",
      "Epoch 3/20\n",
      "391/391 [==============================] - 30s 78ms/step - loss: 0.6328 - acc: 0.7908 - val_loss: 0.4467 - val_acc: 0.8486\n",
      "Epoch 4/20\n",
      "391/391 [==============================] - 30s 78ms/step - loss: 0.5530 - acc: 0.8142 - val_loss: 0.4183 - val_acc: 0.8582\n",
      "Epoch 5/20\n",
      "391/391 [==============================] - 30s 78ms/step - loss: 0.5052 - acc: 0.8296 - val_loss: 0.3985 - val_acc: 0.8644\n",
      "Epoch 6/20\n",
      "391/391 [==============================] - 31s 79ms/step - loss: 0.4705 - acc: 0.8418 - val_loss: 0.3877 - val_acc: 0.8692\n",
      "Epoch 7/20\n",
      "391/391 [==============================] - 30s 77ms/step - loss: 0.4411 - acc: 0.8491 - val_loss: 0.3750 - val_acc: 0.8730\n",
      "Epoch 8/20\n",
      "391/391 [==============================] - 31s 78ms/step - loss: 0.4231 - acc: 0.8552 - val_loss: 0.3638 - val_acc: 0.8746\n",
      "Epoch 9/20\n",
      "391/391 [==============================] - 30s 76ms/step - loss: 0.4061 - acc: 0.8617 - val_loss: 0.3627 - val_acc: 0.8758\n",
      "Epoch 10/20\n",
      "391/391 [==============================] - 29s 74ms/step - loss: 0.3901 - acc: 0.8655 - val_loss: 0.3529 - val_acc: 0.8794 - loss: 0.3885  - ET\n",
      "Epoch 11/20\n",
      "391/391 [==============================] - 30s 78ms/step - loss: 0.3779 - acc: 0.8707 - val_loss: 0.3479 - val_acc: 0.87943777 - acc:\n",
      "Epoch 12/20\n",
      "391/391 [==============================] - 31s 78ms/step - loss: 0.3696 - acc: 0.8727 - val_loss: 0.3459 - val_acc: 0.8798\n",
      "Epoch 13/20\n",
      "391/391 [==============================] - 31s 78ms/step - loss: 0.3549 - acc: 0.8780 - val_loss: 0.3396 - val_acc: 0.8818\n",
      "Epoch 14/20\n",
      "391/391 [==============================] - 31s 78ms/step - loss: 0.3489 - acc: 0.8790 - val_loss: 0.3371 - val_acc: 0.8828\n",
      "Epoch 15/20\n",
      "391/391 [==============================] - 31s 79ms/step - loss: 0.3385 - acc: 0.8845 - val_loss: 0.3403 - val_acc: 0.8834\n",
      "Epoch 16/20\n",
      "391/391 [==============================] - 30s 78ms/step - loss: 0.3296 - acc: 0.8866 - val_loss: 0.3341 - val_acc: 0.8854\n",
      "Epoch 17/20\n",
      "391/391 [==============================] - 31s 80ms/step - loss: 0.3255 - acc: 0.8880 - val_loss: 0.3356 - val_acc: 0.8870\n",
      "Epoch 18/20\n",
      "391/391 [==============================] - 31s 80ms/step - loss: 0.3138 - acc: 0.8919 - val_loss: 0.3294 - val_acc: 0.8860\n",
      "Epoch 19/20\n",
      "390/391 [============================>.] - ETA: 0s - loss: 0.3089 - acc: 0.8922\n",
      "Epoch 00019: ReduceLROnPlateau reducing learning rate to 4.999999873689376e-05.\n",
      "391/391 [==============================] - 31s 80ms/step - loss: 0.3089 - acc: 0.8922 - val_loss: 0.3334 - val_acc: 0.8870\n",
      "Epoch 20/20\n",
      "391/391 [==============================] - 31s 80ms/step - loss: 0.2983 - acc: 0.8974 - val_loss: 0.3272 - val_acc: 0.8888\n"
     ]
    }
   ],
   "source": [
    "  # MAKE WHATEVER CHANGES ARE NECESSARY\n",
    "  # TO GET 0.7 ACCURACY ON THE TEST SET\n",
    "\n",
    "model_hist = model.fit(train_images, train_labels,\n",
    "          epochs=20, batch_size=128, callbacks=[lr_reduce], validation_data=(validation_images, validation_labels), verbose=1)\n",
    "          # ADD VALIDATION HERE)"
   ]
  },
  {
   "cell_type": "code",
   "execution_count": 139,
   "metadata": {
    "colab": {
     "base_uri": "https://localhost:8080/",
     "height": 279
    },
    "colab_type": "code",
    "id": "AK7GvOCaUwp9",
    "outputId": "2eeed805-5049-4e46-cc80-f3ff85a72fce"
   },
   "outputs": [
    {
     "data": {
      "image/png": "[encoded data removed]",
      "text/plain": [
       "<Figure size 432x288 with 1 Axes>"
      ]
     },
     "metadata": {
      "needs_background": "light"
     },
     "output_type": "display_data"
    }
   ],
   "source": [
    "import matplotlib.pyplot as plt\n",
    "\n",
    "epochs = range(0, 20)\n",
    "train_loss = model_hist.history['loss']\n",
    "val_loss= model_hist.history['val_loss']\n",
    "val_acc = model_hist.history['val_acc'][-1]\n",
    "\n",
    "plt.plot(epochs, val_loss, 'b+', label='Validation')\n",
    "plt.plot(epochs, train_loss, 'bo', label='training')\n",
    "plt.title('val_acc - {}'.format(val_acc))\n",
    "plt.xlabel('Epochs')\n",
    "plt.ylabel('Validation loss')\n",
    "plt.legend()\n",
    "plt.savefig('{}.png'.format(conv_base.name.replace(\".\",\"_\")))\n",
    "plt.show()\n"
   ]
  },
  {
   "cell_type": "code",
   "execution_count": 137,
   "metadata": {
    "colab": {
     "base_uri": "https://localhost:8080/",
     "height": 68
    },
    "colab_type": "code",
    "id": "ZSr5gnDLNRo7",
    "outputId": "b0c2ffb1-5a3f-424f-86d0-f7e9fb4a656b"
   },
   "outputs": [
    {
     "name": "stdout",
     "output_type": "stream",
     "text": [
      "157/157 [==============================] - 3s 20ms/step - loss: 0.3160 - acc: 0.8888\n",
      "test_acc: 0.8888000249862671\n"
     ]
    },
    {
     "data": {
      "text/plain": [
       "0.3160334527492523"
      ]
     },
     "execution_count": 137,
     "metadata": {},
     "output_type": "execute_result"
    }
   ],
   "source": [
    "test_loss, test_acc = model.evaluate(test_images, test_labels)\n",
    "print('test_acc:', test_acc)\n",
    "test_loss"
   ]
  },
  {
   "cell_type": "code",
   "execution_count": 138,
   "metadata": {
    "colab": {},
    "colab_type": "code",
    "id": "e9SeN6QOO77D"
   },
   "outputs": [],
   "source": [
    "model.save_weights('./cifar10.h5', overwrite=True)"
   ]
  },
  {
   "cell_type": "code",
   "execution_count": null,
   "metadata": {},
   "outputs": [],
   "source": []
  }
 ],
 "metadata": {
  "accelerator": "GPU",
  "colab": {
   "collapsed_sections": [],
   "name": "CIFAR10.ipynb",
   "provenance": []
  },
  "kernelspec": {
   "display_name": "Python 3 (ipykernel)",
   "language": "python",
   "name": "python3"
  },
  "language_info": {
   "codemirror_mode": {
    "name": "ipython",
    "version": 3
   },
   "file_extension": ".py",
   "mimetype": "text/x-python",
   "name": "python",
   "nbconvert_exporter": "python",
   "pygments_lexer": "ipython3",
   "version": "3.7.11"
  }
 },
 "nbformat": 4,
 "nbformat_minor": 4
}
